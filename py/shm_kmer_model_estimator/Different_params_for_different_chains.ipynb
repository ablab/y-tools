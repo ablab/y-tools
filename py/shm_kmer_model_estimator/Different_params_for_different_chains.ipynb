{
 "cells": [
  {
   "cell_type": "code",
   "execution_count": 1,
   "metadata": {
    "collapsed": false
   },
   "outputs": [
    {
     "name": "stderr",
     "output_type": "stream",
     "text": [
      "/Users/andrewbzikadze/anaconda/envs/python2.7/lib/python2.7/site-packages/matplotlib/font_manager.py:273: UserWarning: Matplotlib is building the font cache using fc-list. This may take a moment.\n",
      "  warnings.warn('Matplotlib is building the font cache using fc-list. This may take a moment.')\n"
     ]
    }
   ],
   "source": [
    "import seaborn as sns\n",
    "import matplotlib.pyplot as plt\n",
    "\n",
    "%matplotlib inline\n",
    "plt.rcParams['figure.figsize'] = 14, 8 # that's default image size for this interactive session"
   ]
  },
  {
   "cell_type": "code",
   "execution_count": 2,
   "metadata": {
    "collapsed": true
   },
   "outputs": [],
   "source": [
    "import shm_kmer_model_estimator.standard_model_estimations as standard_model_estimations"
   ]
  },
  {
   "cell_type": "code",
   "execution_count": 3,
   "metadata": {
    "collapsed": true
   },
   "outputs": [],
   "source": [
    "full_all_chains_model = standard_model_estimations.full_all_chains_model()\n",
    "full_igh_model = standard_model_estimations.full_igh_model()"
   ]
  },
  {
   "cell_type": "code",
   "execution_count": 4,
   "metadata": {
    "collapsed": false
   },
   "outputs": [],
   "source": [
    "all_chains_igh = full_all_chains_model['NoKNeighbours']['IGH']\n",
    "all_chains_igl = full_all_chains_model['NoKNeighbours']['IGL']\n",
    "all_chains_igk = full_all_chains_model['NoKNeighbours']['IGK']"
   ]
  },
  {
   "cell_type": "markdown",
   "metadata": {},
   "source": [
    "# Mutability"
   ]
  },
  {
   "cell_type": "code",
   "execution_count": 5,
   "metadata": {
    "collapsed": false
   },
   "outputs": [
    {
     "ename": "TypeError",
     "evalue": "cannot concatenate a non-NDFrame object",
     "output_type": "error",
     "traceback": [
      "\u001b[0;31m--\u001b[0m",
      "\u001b[0;31mTypeError\u001b[0mTraceback (most recent call last)",
      "\u001b[0;32m<ipython-input-5-aa4252476757>\u001b[0m in \u001b[0;36m<module>\u001b[0;34m()\u001b[0m\n\u001b[1;32m      1\u001b[0m \u001b[0;32mimport\u001b[0m \u001b[0msample_reader\u001b[0m\u001b[0;34m.\u001b[0m\u001b[0mstandard_samples\u001b[0m \u001b[0;32mas\u001b[0m \u001b[0mstandard_samples\u001b[0m\u001b[0;34m\u001b[0m\u001b[0m\n\u001b[1;32m      2\u001b[0m \u001b[0;34m\u001b[0m\u001b[0m\n\u001b[0;32m----> 3\u001b[0;31m \u001b[0mheavy_samples\u001b[0m  \u001b[0;34m=\u001b[0m \u001b[0mstandard_samples\u001b[0m\u001b[0;34m.\u001b[0m\u001b[0mconcatenate_kmer_freq_matrices\u001b[0m\u001b[0;34m(\u001b[0m\u001b[0;34m'IGH'\u001b[0m\u001b[0;34m)\u001b[0m\u001b[0;34m\u001b[0m\u001b[0m\n\u001b[0m\u001b[1;32m      4\u001b[0m \u001b[0mlambda_samples\u001b[0m \u001b[0;34m=\u001b[0m \u001b[0mstandard_samples\u001b[0m\u001b[0;34m.\u001b[0m\u001b[0mconcatenate_kmer_freq_matrices\u001b[0m\u001b[0;34m(\u001b[0m\u001b[0;34m'IGL'\u001b[0m\u001b[0;34m)\u001b[0m\u001b[0;34m\u001b[0m\u001b[0m\n\u001b[1;32m      5\u001b[0m \u001b[0mkappa_samples\u001b[0m  \u001b[0;34m=\u001b[0m \u001b[0mstandard_samples\u001b[0m\u001b[0;34m.\u001b[0m\u001b[0mconcatenate_kmer_freq_matrices\u001b[0m\u001b[0;34m(\u001b[0m\u001b[0;34m'IGK'\u001b[0m\u001b[0;34m)\u001b[0m\u001b[0;34m\u001b[0m\u001b[0m\n",
      "\u001b[0;32m/Users/andrewbzikadze/Yandex.Disk.localized/Documents/lab/ig_repertoire_constructor/src/shm_kmer_model_estimator/sample_reader/standard_samples.pyc\u001b[0m in \u001b[0;36mconcatenate_kmer_freq_matrices\u001b[0;34m(input_data, kmer_freq_matrix_reader, chain_type, strategy)\u001b[0m\n\u001b[1;32m     13\u001b[0m     \u001b[0;32massert\u001b[0m \u001b[0mchain_type\u001b[0m \u001b[0;32min\u001b[0m \u001b[0;34m[\u001b[0m\u001b[0;34m'IGH'\u001b[0m\u001b[0;34m,\u001b[0m \u001b[0;34m'IGL'\u001b[0m\u001b[0;34m,\u001b[0m \u001b[0;34m'IGK'\u001b[0m\u001b[0;34m]\u001b[0m\u001b[0;34m\u001b[0m\u001b[0m\n\u001b[1;32m     14\u001b[0m     \u001b[0msamples\u001b[0m \u001b[0;34m=\u001b[0m \u001b[0;34m[\u001b[0m\u001b[0mkmer_freq_matrix_reader\u001b[0m\u001b[0;34m.\u001b[0m\u001b[0mread\u001b[0m\u001b[0;34m(\u001b[0m\u001b[0;34m*\u001b[0m\u001b[0mx\u001b[0m\u001b[0;34m)\u001b[0m \u001b[0;32mfor\u001b[0m \u001b[0mx\u001b[0m \u001b[0;32min\u001b[0m \u001b[0minput_data\u001b[0m\u001b[0;34m]\u001b[0m\u001b[0;34m\u001b[0m\u001b[0m\n\u001b[0;32m---> 15\u001b[0;31m     \u001b[0mresult\u001b[0m \u001b[0;34m=\u001b[0m \u001b[0mpd\u001b[0m\u001b[0;34m.\u001b[0m\u001b[0mconcat\u001b[0m\u001b[0;34m(\u001b[0m\u001b[0;34m(\u001b[0m\u001b[0msample\u001b[0m\u001b[0;34m[\u001b[0m\u001b[0mstrategy\u001b[0m\u001b[0;34m]\u001b[0m\u001b[0;34m[\u001b[0m\u001b[0mchain_type\u001b[0m\u001b[0;34m]\u001b[0m \u001b[0;32mfor\u001b[0m \u001b[0msample\u001b[0m \u001b[0;32min\u001b[0m \u001b[0msamples\u001b[0m\u001b[0;34m)\u001b[0m\u001b[0;34m)\u001b[0m\u001b[0;34m\u001b[0m\u001b[0m\n\u001b[0m\u001b[1;32m     16\u001b[0m     \u001b[0;32mreturn\u001b[0m \u001b[0mresult\u001b[0m\u001b[0;34m\u001b[0m\u001b[0m\n\u001b[1;32m     17\u001b[0m \u001b[0;34m\u001b[0m\u001b[0m\n",
      "\u001b[0;32m/Users/andrewbzikadze/anaconda/envs/python2.7/lib/python2.7/site-packages/pandas/tools/merge.pyc\u001b[0m in \u001b[0;36mconcat\u001b[0;34m(objs, axis, join, join_axes, ignore_index, keys, levels, names, verify_integrity, copy)\u001b[0m\n\u001b[1;32m    832\u001b[0m                        \u001b[0mkeys\u001b[0m\u001b[0;34m=\u001b[0m\u001b[0mkeys\u001b[0m\u001b[0;34m,\u001b[0m \u001b[0mlevels\u001b[0m\u001b[0;34m=\u001b[0m\u001b[0mlevels\u001b[0m\u001b[0;34m,\u001b[0m \u001b[0mnames\u001b[0m\u001b[0;34m=\u001b[0m\u001b[0mnames\u001b[0m\u001b[0;34m,\u001b[0m\u001b[0;34m\u001b[0m\u001b[0m\n\u001b[1;32m    833\u001b[0m                        \u001b[0mverify_integrity\u001b[0m\u001b[0;34m=\u001b[0m\u001b[0mverify_integrity\u001b[0m\u001b[0;34m,\u001b[0m\u001b[0;34m\u001b[0m\u001b[0m\n\u001b[0;32m--> 834\u001b[0;31m                        copy=copy)\n\u001b[0m\u001b[1;32m    835\u001b[0m     \u001b[0;32mreturn\u001b[0m \u001b[0mop\u001b[0m\u001b[0;34m.\u001b[0m\u001b[0mget_result\u001b[0m\u001b[0;34m(\u001b[0m\u001b[0;34m)\u001b[0m\u001b[0;34m\u001b[0m\u001b[0m\n\u001b[1;32m    836\u001b[0m \u001b[0;34m\u001b[0m\u001b[0m\n",
      "\u001b[0;32m/Users/andrewbzikadze/anaconda/envs/python2.7/lib/python2.7/site-packages/pandas/tools/merge.pyc\u001b[0m in \u001b[0;36m__init__\u001b[0;34m(self, objs, axis, join, join_axes, keys, levels, names, ignore_index, verify_integrity, copy)\u001b[0m\n\u001b[1;32m    888\u001b[0m         \u001b[0;32mfor\u001b[0m \u001b[0mobj\u001b[0m \u001b[0;32min\u001b[0m \u001b[0mobjs\u001b[0m\u001b[0;34m:\u001b[0m\u001b[0;34m\u001b[0m\u001b[0m\n\u001b[1;32m    889\u001b[0m             \u001b[0;32mif\u001b[0m \u001b[0;32mnot\u001b[0m \u001b[0misinstance\u001b[0m\u001b[0;34m(\u001b[0m\u001b[0mobj\u001b[0m\u001b[0;34m,\u001b[0m \u001b[0mNDFrame\u001b[0m\u001b[0;34m)\u001b[0m\u001b[0;34m:\u001b[0m\u001b[0;34m\u001b[0m\u001b[0m\n\u001b[0;32m--> 890\u001b[0;31m                 \u001b[0;32mraise\u001b[0m \u001b[0mTypeError\u001b[0m\u001b[0;34m(\u001b[0m\u001b[0;34m\"cannot concatenate a non-NDFrame object\"\u001b[0m\u001b[0;34m)\u001b[0m\u001b[0;34m\u001b[0m\u001b[0m\n\u001b[0m\u001b[1;32m    891\u001b[0m \u001b[0;34m\u001b[0m\u001b[0m\n\u001b[1;32m    892\u001b[0m             \u001b[0;31m# consolidate\u001b[0m\u001b[0;34m\u001b[0m\u001b[0;34m\u001b[0m\u001b[0m\n",
      "\u001b[0;31mTypeError\u001b[0m: cannot concatenate a non-NDFrame object"
     ]
    }
   ],
   "source": [
    "import sample_reader.standard_samples as standard_samples\n",
    "\n",
    "heavy_samples  = standard_samples.concatenate_kmer_freq_matrices('IGH')\n",
    "lambda_samples = standard_samples.concatenate_kmer_freq_matrices('IGL')\n",
    "kappa_samples  = standard_samples.concatenate_kmer_freq_matrices('IGK')"
   ]
  },
  {
   "cell_type": "code",
   "execution_count": null,
   "metadata": {
    "collapsed": false
   },
   "outputs": [],
   "source": [
    "import pandas as pd\n",
    "import scipy as sp\n",
    "from mutability_diversity.calculate_mutability_diversity import *\n",
    "\n",
    "def diversity_boxplot_cross_chains(kmer,\n",
    "                                   heavy_samples=standard_samples.concatenate_kmer_freq_matrices('IGH'),\n",
    "                                   lambda_samples=standard_samples.concatenate_kmer_freq_matrices('IGL'),\n",
    "                                   kappa_samples=standard_samples.concatenate_kmer_freq_matrices('IGK'),\n",
    "                                   diversity_function=calculate_mutability,\n",
    "                                   plot=False,\n",
    "                                   balanced_design=True,\n",
    "                                   statistics_function=sp.stats.mstats.kruskalwallis):\n",
    "    f = (lambda x: calculate_mutability_diversity(x, diversity_function, good_coverage_indices=[0]))\n",
    "    nd_1d = (lambda x: np.array(x).flatten())\n",
    "    _, heavy_diversity  = f(heavy_samples.loc[:, [kmer], :])\n",
    "    _, lambda_diversity = f(lambda_samples.loc[:, [kmer], :])\n",
    "    _, kappa_diversity  = f(kappa_samples.loc[:, [kmer], :])\n",
    "    \n",
    "    if isinstance(heavy_diversity, pd.DataFrame):\n",
    "        heavy_diversity.columns = ['Heavy']\n",
    "        lambda_diversity.columns = ['Lambda']\n",
    "        kappa_diversity.columns = ['Kappa']\n",
    "    if isinstance(heavy_diversity, pd.Panel):\n",
    "        heavy_diversity.items = ['Heavy']\n",
    "        lambda_diversity.items = ['Lambda']\n",
    "        kappa_diversity.items = ['Kappa']\n",
    "    \n",
    "    all_chain_data = pd.concat((heavy_diversity,\n",
    "                                lambda_diversity,\n",
    "                                kappa_diversity\n",
    "                               ), axis=1)\n",
    "    if plot:\n",
    "        g = sns.boxplot(all_chain_data)\n",
    "        plt.title(kmer)\n",
    "    \n",
    "    if isinstance(heavy_diversity, pd.DataFrame):\n",
    "        heavy_diversity  = nd_1d(heavy_diversity)\n",
    "        lambda_diversity = nd_1d(lambda_diversity)\n",
    "        kappa_diversity  = nd_1d(kappa_diversity)\n",
    "    if isinstance(heavy_diversity, pd.Panel):\n",
    "        heavy_diversity  = np.array(heavy_diversity['Heavy']).T\n",
    "        lambda_diversity = np.array(lambda_diversity['Lambda']).T\n",
    "        kappa_diversity  = np.array(kappa_diversity['Kappa']).T\n",
    "    if balanced_design:\n",
    "        if isinstance(heavy_diversity, pd.DataFrame):\n",
    "            return statistics_function(heavy_diversity[:len(lambda_diversity)],\n",
    "                                       lambda_diversity, kappa_diversity)\n",
    "        if isinstance(heavy_diversity, pd.Panel):\n",
    "            return statistics_function(heavy_diversity.loc[:,:,:len(lambda_diversity)],\n",
    "                                       lambda_diversity, kappa_diversity)\n",
    "    return statistics_function(heavy_diversity, lambda_diversity, kappa_diversity)"
   ]
  },
  {
   "cell_type": "code",
   "execution_count": null,
   "metadata": {
    "collapsed": false
   },
   "outputs": [],
   "source": [
    "def filter_multichain_kmers():\n",
    "    import kmer_utilities.filtering_kmers_utilities as filtering_kmers_utilities\n",
    "    import sample_reader.standard_samples as standard_samples\n",
    "    good_coverage_ind = np.array([True] * 1024)\n",
    "    for chain_type in ['IGH', 'IGK', 'IGL']:\n",
    "        indexes_chain_type, _ = \\\n",
    "        filtering_kmers_utilities.filter_by_coverage(\n",
    "            standard_samples.concatenate_kmer_freq_matrices(chain_type=chain_type, strategy='NoKNeighbours'))\n",
    "        good_coverage_ind *= indexes_chain_type\n",
    "    \n",
    "    import kmer_utilities.kmer_utilities as kmer_utilities\n",
    "    good_coverage_kmers = np.array(kmer_utilities.kmer_names())[good_coverage_ind]\n",
    "    return good_coverage_kmers"
   ]
  },
  {
   "cell_type": "code",
   "execution_count": null,
   "metadata": {
    "collapsed": false,
    "scrolled": true
   },
   "outputs": [],
   "source": [
    "def pvalue_distr(good_coverage_kmers=filter_multichain_kmers(),\n",
    "                 balanced_design=True,\n",
    "                 statistics_function=sp.stats.mstats.kruskalwallis,\n",
    "                 diversity_function=calculate_mutability):\n",
    "    pvalues = []\n",
    "    for kmer in good_coverage_kmers:\n",
    "        pvalues.append(diversity_boxplot_cross_chains(kmer,\n",
    "                                                      balanced_design=balanced_design,\n",
    "                                                      statistics_function=statistics_function,\n",
    "                                                      diversity_function=diversity_function).pvalue)\n",
    "    pvalues = np.array(pvalues)\n",
    "    return pvalues"
   ]
  },
  {
   "cell_type": "code",
   "execution_count": null,
   "metadata": {
    "collapsed": false
   },
   "outputs": [],
   "source": [
    "anova = sp.stats.f_oneway\n",
    "kruskalwallis = sp.stats.mstats.kruskalwallis\n",
    "pvalues = pvalue_distr(statistics_function=kruskalwallis, balanced_design=False)\n",
    "pvalues.sort()\n",
    "\n",
    "plt.plot(pvalues)\n",
    "signif_level = 0.01\n",
    "np.mean(pvalues < signif_level / len(pvalues))\n",
    "#sns.distplot(range(len(pvalues)), pvalues)"
   ]
  },
  {
   "cell_type": "code",
   "execution_count": null,
   "metadata": {
    "collapsed": false,
    "scrolled": true
   },
   "outputs": [],
   "source": [
    "anova([[1, 2, 3], [2, 3, 4]], [[1, 2, 3], [2, 3, 4]])"
   ]
  },
  {
   "cell_type": "code",
   "execution_count": null,
   "metadata": {
    "collapsed": false
   },
   "outputs": [],
   "source": [
    "import math_special_functions.manova as manova"
   ]
  },
  {
   "cell_type": "code",
   "execution_count": null,
   "metadata": {
    "collapsed": false,
    "scrolled": false
   },
   "outputs": [],
   "source": [
    "pvalues = pvalue_distr(statistics_function=manova.manova_wilks, balanced_design=True,\n",
    "                       diversity_function=calculate_full_substitution)\n",
    "pvalues.sort()\n",
    "\n",
    "plt.plot(pvalues)\n",
    "signif_level = 0.01\n",
    "np.mean(pvalues < signif_level / len(pvalues))\n",
    "#sns.distplot(range(len(pvalues)), pvalues)"
   ]
  }
 ],
 "metadata": {
  "kernelspec": {
   "display_name": "Python 2",
   "language": "python",
   "name": "python2"
  },
  "language_info": {
   "codemirror_mode": {
    "name": "ipython",
    "version": 2
   },
   "file_extension": ".py",
   "mimetype": "text/x-python",
   "name": "python",
   "nbconvert_exporter": "python",
   "pygments_lexer": "ipython2",
   "version": "2.7.13"
  }
 },
 "nbformat": 4,
 "nbformat_minor": 0
}
