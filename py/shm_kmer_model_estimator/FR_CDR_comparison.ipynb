{
 "cells": [
  {
   "cell_type": "code",
   "execution_count": 40,
   "metadata": {
    "collapsed": false,
    "scrolled": true
   },
   "outputs": [],
   "source": [
    "import seaborn as sns\n",
    "import matplotlib.pyplot as plt\n",
    "import seaborn as sns\n",
    "\n",
    "%matplotlib inline\n",
    "plt.rcParams['figure.figsize'] = 14, 8 # that's default image size for this interactive session"
   ]
  },
  {
   "cell_type": "code",
   "execution_count": 209,
   "metadata": {
    "collapsed": false
   },
   "outputs": [],
   "source": [
    "from sample_reader.kmer_freq_matrix_reader import KmerFreqMatrixReader\n",
    "from sample_reader.standard_samples import concatenate_kmer_matrices_all_data, concatenate_kmer_freq_matrices"
   ]
  },
  {
   "cell_type": "code",
   "execution_count": 203,
   "metadata": {
    "collapsed": true
   },
   "outputs": [],
   "source": [
    "kmer_matrix_reader_fr = KmerFreqMatrixReader(dir_data=\"kmer_statistics_fr_cdr\",\n",
    "                                             filename_data=\"kmer_matrix_fr.csv\")\n",
    "kmer_matrix_reader_cdr = KmerFreqMatrixReader(dir_data=\"kmer_statistics_fr_cdr\",\n",
    "                                             filename_data=\"kmer_matrix_cdr.csv\")"
   ]
  },
  {
   "cell_type": "markdown",
   "metadata": {},
   "source": [
    "# Compare mutability"
   ]
  },
  {
   "cell_type": "code",
   "execution_count": 204,
   "metadata": {
    "collapsed": false
   },
   "outputs": [],
   "source": [
    "from kmer_utilities.filtering_kmers_utilities import filter_by_coverage\n",
    "from mutability_diversity.calculate_mutability_diversity import *\n",
    "import kmer_utilities.kmer_utilities as kmer_utilities\n",
    "from scipy.stats import ttest_ind, mannwhitneyu\n",
    "from spots.spots import hotspots, coldspots"
   ]
  },
  {
   "cell_type": "code",
   "execution_count": 205,
   "metadata": {
    "collapsed": true
   },
   "outputs": [],
   "source": [
    "ttest = lambda a, b: ttest_ind(a, b, equal_var=False).pvalue[0]\n",
    "mannwhitneyu_pv = lambda a, b: mannwhitneyu(a, b, alternative=\"less\").pvalue    "
   ]
  },
  {
   "cell_type": "code",
   "execution_count": 208,
   "metadata": {
    "collapsed": false,
    "scrolled": true
   },
   "outputs": [],
   "source": [
    "kmer_matrices_fr, kmer_matrices_cdr = {}, {}\n",
    "def get_kmer_matrices(chain_type, strategy,\n",
    "                      kmer_matrix_reader_fr,\n",
    "                      kmer_matrix_reader_cdr,\n",
    "                      matrix_getter=concatenate_kmer_matrices_all_data):\n",
    "    kmer_matrices_fr  = matrix_getter(chain_type=chain_type,\n",
    "                                      strategy=strategy,\n",
    "                                      kmer_freq_matrix_reader=kmer_matrix_reader_fr)\n",
    "    kmer_matrices_cdr = matrix_getter(chain_type=chain_type,\n",
    "                                      strategy=strategy,\n",
    "                                      kmer_freq_matrix_reader=kmer_matrix_reader_cdr)\n",
    "    return kmer_matrices_fr, kmer_matrices_cdr\n",
    "\n",
    "for chain_type in ['IGH', 'IGL', 'IGK']:\n",
    "    for strategy in ['Trivial', 'NoKNeighbours']:\n",
    "        kmer_matrices_fr[(chain_type, strategy)], kmer_matrices_cdr[(chain_type, strategy)] = \\\n",
    "            get_kmer_matrices(chain_type, strategy,\n",
    "                              kmer_matrix_reader_fr=kmer_matrix_reader_fr,\n",
    "                              kmer_matrix_reader_cdr=kmer_matrix_reader_cdr)"
   ]
  },
  {
   "cell_type": "code",
   "execution_count": 258,
   "metadata": {
    "collapsed": false
   },
   "outputs": [],
   "source": [
    "def get_mutability_pvalues(chain_type, strategy,\n",
    "                           kmer_matrices_fr,\n",
    "                           kmer_matrices_cdr,\n",
    "                           signif_level=0.01,\n",
    "                           statistical_criterion=mannwhitneyu_pv):\n",
    "    kmer_freq_matrices_fr  = kmer_matrices_fr[(chain_type, strategy)]\n",
    "    kmer_freq_matrices_cdr = kmer_matrices_cdr[(chain_type, strategy)]\n",
    "\n",
    "    def get_covered_kmers(coverage_threshold=300,\n",
    "                      mean_function=pd.DataFrame.mean,\n",
    "                      threshold_function=pd.Panel.max):\n",
    "        def f(x):\n",
    "            return filter_by_coverage(x,\n",
    "                                      coverage_threshold=coverage_threshold,\n",
    "                                      mean_function=mean_function,\n",
    "                                      threshold_function=threshold_function)\n",
    "        f_ind_fr, _  = f(kmer_freq_matrices_fr)\n",
    "        f_ind_cdr, _ = f(kmer_freq_matrices_cdr)\n",
    "        f_ind = f_ind_fr * f_ind_cdr\n",
    "        covered_kmers = np.array(kmer_utilities.kmer_names())[f_ind]\n",
    "        return covered_kmers\n",
    "\n",
    "    def get_mut(kmer,\n",
    "                kmer_freq_matrices_fr=kmer_freq_matrices_fr,\n",
    "                kmer_freq_matrices_cdr=kmer_freq_matrices_cdr):\n",
    "        nonmutated_ind = kmer_utilities.nonmutated_index(kmer)\n",
    "        f = (lambda x: calculate_mutability_diversity(x,\n",
    "                                                      calculate_mutability,\n",
    "                                                      kmer_names=[kmer],\n",
    "                                                      nonmutated_ind=[nonmutated_ind],\n",
    "                                                      good_coverage_indices=[0]))\n",
    "        _, mut_fr  = f(kmer_freq_matrices_fr[:, [kmer], :])\n",
    "        _, mut_cdr = f(kmer_freq_matrices_cdr[:, [kmer], :])\n",
    "        def omit_na(x):\n",
    "            return x[~np.isnan(x)]\n",
    "        \n",
    "        return omit_na(mut_fr), omit_na(mut_cdr)\n",
    "\n",
    "\n",
    "    def get_cdr_mut_higher(mut_fr, mut_cdr):\n",
    "        return np.mean(mut_fr) < np.mean(mut_cdr)\n",
    "\n",
    "    \n",
    "    def get_pvalue(mut_fr, mut_cdr, statistical_criterion):\n",
    "        return statistical_criterion(mut_fr, mut_cdr)\n",
    "\n",
    "\n",
    "    def get_mean_mut(mut_fr, mut_cdr, low_index=None, high_index=None):\n",
    "        return (float(np.mean(mut_fr[low_index:high_index])[0]),\n",
    "                float(np.mean(mut_cdr[low_index:high_index])[0]))\n",
    "    \n",
    "    pvalues = []\n",
    "    covered_kmers = get_covered_kmers()\n",
    "    cdr_mut_higher = []\n",
    "    means_fr, means_cdr = [], []\n",
    "    kmers_cdr_mut_high = []\n",
    "    for kmer in covered_kmers:\n",
    "        mut_fr, mut_cdr = get_mut(kmer)\n",
    "        pvalues.append(get_pvalue(mut_fr, mut_cdr,\n",
    "                                  statistical_criterion=statistical_criterion))\n",
    "        cdr_mut_higher.append(get_cdr_mut_higher(mut_fr, mut_cdr))\n",
    "        if cdr_mut_higher[-1][0]:\n",
    "            kmers_cdr_mut_high.append(kmer)\n",
    "        mean_fr, mean_cdr = get_mean_mut(mut_fr, mut_cdr)\n",
    "        if mean_fr > 0.5 or mean_cdr > 0.5:\n",
    "            print(kmer, mean_fr, mean_cdr)\n",
    "        means_fr.append(mean_fr)\n",
    "        means_cdr.append(mean_cdr)\n",
    "\n",
    "    means_fr, means_cdr = np.array(means_fr), np.array(means_cdr)\n",
    "    means_fr, means_cdr = means_fr.flatten(), means_cdr.flatten()\n",
    "    \n",
    "    pvalues = np.array(pvalues)\n",
    "    pvalues.sort()\n",
    "\n",
    "    means = np.vstack([means_fr, means_cdr]).T\n",
    "    means = pd.DataFrame(means,\n",
    "                         columns=[\"FR\", \"CDR\"])\n",
    "    means = pd.melt(means, var_name='region', value_name='mutability')\n",
    "    \n",
    "    means[\"all\"] = \"\"\n",
    "    sns.violinplot(x=\"all\", y=\"mutability\", hue=\"region\",\n",
    "                   data=means, inner=\"quartile\", split=True)\n",
    "    plt.ylim([-0.05, 0.55])\n",
    "    plt.show()\n",
    "    \n",
    "    good_pv = pvalues < signif_level / len(pvalues)\n",
    "    \n",
    "    kmers_cdr_mut_high = set(kmers_cdr_mut_high)\n",
    "    hotspots_set = hotspots()\n",
    "    hotspots_kmers = set.intersection(kmers_cdr_mut_high, hotspots_set)\n",
    "    return \"# well-covered kmers: %d\\n\" % len(covered_kmers) + \\\n",
    "           \"%% kmers with significant mut_FR < mut_CDR: %lf\\n\" % np.mean(good_pv) + \\\n",
    "           \"# kmers with significant mut_FR < mut_CDR: %d\\n\" % np.sum(good_pv) + \\\n",
    "           \"%% kmers with mut_FR < mut_CDR: %lf\\n\" % np.mean(cdr_mut_higher) + \\\n",
    "           \"# kmers with mut_FR < mut_CDR: %d\\n\" %np.sum(cdr_mut_higher) + \\\n",
    "           \"%% hotspot kmers with mut_FR < mut_CDR: %lf\\n\" % (float(len(hotspots_kmers)) / np.sum(cdr_mut_higher))"
   ]
  },
  {
   "cell_type": "code",
   "execution_count": 259,
   "metadata": {
    "collapsed": false,
    "scrolled": false
   },
   "outputs": [
    {
     "name": "stdout",
     "output_type": "stream",
     "text": [
      "('IGH', 'NoKNeighbours')\n"
     ]
    },
    {
     "data": {
      "image/png": "[encoded data removed]",
      "text/plain": [
       "<matplotlib.figure.Figure at 0x122931c90>"
      ]
     },
     "metadata": {},
     "output_type": "display_data"
    },
    {
     "name": "stdout",
     "output_type": "stream",
     "text": [
      "# well-covered kmers: 287\n",
      "% kmers with significant mut_FR < mut_CDR: 0.331010\n",
      "# kmers with significant mut_FR < mut_CDR: 95\n",
      "% kmers with mut_FR < mut_CDR: 0.648084\n",
      "# kmers with mut_FR < mut_CDR: 186\n",
      "% hotspot kmers with mut_FR < mut_CDR: 0.129032\n",
      "\n",
      "\n",
      "\n",
      "('IGL', 'NoKNeighbours')\n"
     ]
    },
    {
     "data": {
      "image/png": "[encoded data removed]",
      "text/plain": [
       "<matplotlib.figure.Figure at 0x1185ec1d0>"
      ]
     },
     "metadata": {},
     "output_type": "display_data"
    },
    {
     "name": "stdout",
     "output_type": "stream",
     "text": [
      "# well-covered kmers: 215\n",
      "% kmers with significant mut_FR < mut_CDR: 0.344186\n",
      "# kmers with significant mut_FR < mut_CDR: 74\n",
      "% kmers with mut_FR < mut_CDR: 0.567442\n",
      "# kmers with mut_FR < mut_CDR: 122\n",
      "% hotspot kmers with mut_FR < mut_CDR: 0.163934\n",
      "\n",
      "\n",
      "\n",
      "('IGK', 'NoKNeighbours')\n"
     ]
    },
    {
     "data": {
      "image/png": "[encoded data removed]",
      "text/plain": [
       "<matplotlib.figure.Figure at 0x12275b3d0>"
      ]
     },
     "metadata": {},
     "output_type": "display_data"
    },
    {
     "name": "stdout",
     "output_type": "stream",
     "text": [
      "# well-covered kmers: 143\n",
      "% kmers with significant mut_FR < mut_CDR: 0.489510\n",
      "# kmers with significant mut_FR < mut_CDR: 70\n",
      "% kmers with mut_FR < mut_CDR: 0.748252\n",
      "# kmers with mut_FR < mut_CDR: 107\n",
      "% hotspot kmers with mut_FR < mut_CDR: 0.177570\n",
      "\n",
      "\n",
      "\n"
     ]
    }
   ],
   "source": [
    "results = {}\n",
    "for chain_type in ['IGH', 'IGL', 'IGK']:\n",
    "    for strategy in ['NoKNeighbours']:\n",
    "        print(chain_type, strategy)\n",
    "        results[(chain_type, strategy)] = get_mutability_pvalues(chain_type=chain_type, strategy=strategy,\n",
    "                                                                 kmer_matrices_fr=kmer_matrices_fr,\n",
    "                                                                 kmer_matrices_cdr=kmer_matrices_cdr)\n",
    "        print(results[(chain_type, strategy)])\n",
    "        print(\"\\n\")"
   ]
  },
  {
   "cell_type": "code",
   "execution_count": 252,
   "metadata": {
    "collapsed": false
   },
   "outputs": [
    {
     "data": {
      "text/html": [
       "<div>\n",
       "<table border=\"1\" class=\"dataframe\">\n",
       "  <thead>\n",
       "    <tr style=\"text-align: right;\">\n",
       "      <th></th>\n",
       "      <th>21</th>\n",
       "      <th>22</th>\n",
       "      <th>23</th>\n",
       "      <th>24</th>\n",
       "      <th>26</th>\n",
       "      <th>27</th>\n",
       "      <th>28</th>\n",
       "      <th>29</th>\n",
       "      <th>30</th>\n",
       "      <th>1</th>\n",
       "      <th>...</th>\n",
       "      <th>6</th>\n",
       "      <th>1</th>\n",
       "      <th>2</th>\n",
       "      <th>3</th>\n",
       "      <th>4</th>\n",
       "      <th>5</th>\n",
       "      <th>6</th>\n",
       "      <th>7</th>\n",
       "      <th>8</th>\n",
       "      <th>9</th>\n",
       "    </tr>\n",
       "  </thead>\n",
       "  <tbody>\n",
       "    <tr>\n",
       "      <th>A</th>\n",
       "      <td>58</td>\n",
       "      <td>7</td>\n",
       "      <td>12</td>\n",
       "      <td>12</td>\n",
       "      <td>54</td>\n",
       "      <td>16</td>\n",
       "      <td>45</td>\n",
       "      <td>33</td>\n",
       "      <td>75</td>\n",
       "      <td>66</td>\n",
       "      <td>...</td>\n",
       "      <td>257</td>\n",
       "      <td>105</td>\n",
       "      <td>65</td>\n",
       "      <td>44</td>\n",
       "      <td>240</td>\n",
       "      <td>225</td>\n",
       "      <td>93</td>\n",
       "      <td>198</td>\n",
       "      <td>91</td>\n",
       "      <td>318</td>\n",
       "    </tr>\n",
       "    <tr>\n",
       "      <th>C</th>\n",
       "      <td>1</td>\n",
       "      <td>0</td>\n",
       "      <td>1</td>\n",
       "      <td>3</td>\n",
       "      <td>0</td>\n",
       "      <td>0</td>\n",
       "      <td>1</td>\n",
       "      <td>1</td>\n",
       "      <td>0</td>\n",
       "      <td>0</td>\n",
       "      <td>...</td>\n",
       "      <td>1</td>\n",
       "      <td>2</td>\n",
       "      <td>2</td>\n",
       "      <td>0</td>\n",
       "      <td>0</td>\n",
       "      <td>0</td>\n",
       "      <td>1</td>\n",
       "      <td>0</td>\n",
       "      <td>0</td>\n",
       "      <td>0</td>\n",
       "    </tr>\n",
       "    <tr>\n",
       "      <th>G</th>\n",
       "      <td>2</td>\n",
       "      <td>3</td>\n",
       "      <td>3</td>\n",
       "      <td>2</td>\n",
       "      <td>7</td>\n",
       "      <td>0</td>\n",
       "      <td>8</td>\n",
       "      <td>6</td>\n",
       "      <td>34</td>\n",
       "      <td>0</td>\n",
       "      <td>...</td>\n",
       "      <td>3</td>\n",
       "      <td>4</td>\n",
       "      <td>1</td>\n",
       "      <td>3</td>\n",
       "      <td>2</td>\n",
       "      <td>1</td>\n",
       "      <td>0</td>\n",
       "      <td>1</td>\n",
       "      <td>6</td>\n",
       "      <td>1</td>\n",
       "    </tr>\n",
       "    <tr>\n",
       "      <th>T</th>\n",
       "      <td>0</td>\n",
       "      <td>0</td>\n",
       "      <td>0</td>\n",
       "      <td>0</td>\n",
       "      <td>0</td>\n",
       "      <td>0</td>\n",
       "      <td>0</td>\n",
       "      <td>0</td>\n",
       "      <td>0</td>\n",
       "      <td>0</td>\n",
       "      <td>...</td>\n",
       "      <td>0</td>\n",
       "      <td>0</td>\n",
       "      <td>0</td>\n",
       "      <td>1</td>\n",
       "      <td>0</td>\n",
       "      <td>0</td>\n",
       "      <td>0</td>\n",
       "      <td>0</td>\n",
       "      <td>0</td>\n",
       "      <td>0</td>\n",
       "    </tr>\n",
       "  </tbody>\n",
       "</table>\n",
       "<p>4 rows × 43 columns</p>\n",
       "</div>"
      ],
      "text/plain": [
       "   21  22  23  24  26  27  28  29  30   1 ...     6    1   2   3    4    5  \\\n",
       "A  58   7  12  12  54  16  45  33  75  66 ...   257  105  65  44  240  225   \n",
       "C   1   0   1   3   0   0   1   1   0   0 ...     1    2   2   0    0    0   \n",
       "G   2   3   3   2   7   0   8   6  34   0 ...     3    4   1   3    2    1   \n",
       "T   0   0   0   0   0   0   0   0   0   0 ...     0    0   0   1    0    0   \n",
       "\n",
       "    6    7   8    9  \n",
       "A  93  198  91  318  \n",
       "C   1    0   0    0  \n",
       "G   0    1   6    1  \n",
       "T   0    0   0    0  \n",
       "\n",
       "[4 rows x 43 columns]"
      ]
     },
     "execution_count": 252,
     "metadata": {},
     "output_type": "execute_result"
    }
   ],
   "source": [
    "kmer_matrices_cdr[('IGH', 'Trivial')][:, \"AAAAA\", :]"
   ]
  },
  {
   "cell_type": "code",
   "execution_count": 133,
   "metadata": {
    "collapsed": true
   },
   "outputs": [],
   "source": [
    "from spots.spots import hotspots, coldspots"
   ]
  },
  {
   "cell_type": "code",
   "execution_count": 135,
   "metadata": {
    "collapsed": false
   },
   "outputs": [
    {
     "data": {
      "text/plain": [
       "False"
      ]
     },
     "execution_count": 135,
     "metadata": {},
     "output_type": "execute_result"
    }
   ],
   "source": [
    "\"CACAA\" in hotspots()"
   ]
  },
  {
   "cell_type": "code",
   "execution_count": null,
   "metadata": {
    "collapsed": true
   },
   "outputs": [],
   "source": [
    "results = {}\n",
    "for chain_type in ['IGH', 'IGL', 'IGK']:\n",
    "    for strategy in ['NoKNeighbours']:\n",
    "        print(chain_type, strategy)\n",
    "        results[(chain_type, strategy)] = get_mutability_pvalues(chain_type=chain_type, strategy=strategy,\n",
    "                                                                 kmer_matrices_fr=kmer_matrices_fr,\n",
    "                                                                 kmer_matrices_cdr=kmer_matrices_cdr)\n",
    "        print(results[(chain_type, strategy)])\n",
    "        print(\"\\n\")"
   ]
  },
  {
   "cell_type": "markdown",
   "metadata": {},
   "source": [
    "# Coverage"
   ]
  },
  {
   "cell_type": "code",
   "execution_count": null,
   "metadata": {
    "collapsed": true
   },
   "outputs": [],
   "source": [
    "import seaborn as sns"
   ]
  },
  {
   "cell_type": "markdown",
   "metadata": {},
   "source": [
    "## Sum"
   ]
  },
  {
   "cell_type": "code",
   "execution_count": 200,
   "metadata": {
    "collapsed": false,
    "scrolled": false
   },
   "outputs": [
    {
     "name": "stdout",
     "output_type": "stream",
     "text": [
      "('IGH', 'NoKNeighbours')\n",
      "FR\n",
      "Zero coverage 186\n",
      "Median coverage of nonzero 1738\n",
      "Coverage more than threshold: 0.780430 = 654 / 838\n",
      "CDR\n",
      "Zero coverage 484\n",
      "Median coverage of nonzero 403\n",
      "Coverage more than threshold: 0.570370 = 308 / 540\n",
      "\n",
      "\n",
      "('IGH', 'Trivial')\n",
      "FR\n",
      "Zero coverage 172\n",
      "Median coverage of nonzero 1938\n",
      "Coverage more than threshold: 0.794601 = 677 / 852\n",
      "CDR\n",
      "Zero coverage 470\n",
      "Median coverage of nonzero 534\n",
      "Coverage more than threshold: 0.638989 = 354 / 554\n",
      "\n",
      "\n",
      "('IGL', 'NoKNeighbours')\n",
      "FR\n",
      "Zero coverage 161\n",
      "Median coverage of nonzero 1939\n",
      "Coverage more than threshold: 0.818076 = 706 / 863\n",
      "CDR\n",
      "Zero coverage 566\n",
      "Median coverage of nonzero 439\n",
      "Coverage more than threshold: 0.596070 = 273 / 458\n",
      "\n",
      "\n",
      "('IGL', 'Trivial')\n",
      "FR\n",
      "Zero coverage 150\n",
      "Median coverage of nonzero 2485\n",
      "Coverage more than threshold: 0.821510 = 718 / 874\n",
      "CDR\n",
      "Zero coverage 563\n",
      "Median coverage of nonzero 523\n",
      "Coverage more than threshold: 0.622560 = 287 / 461\n",
      "\n",
      "\n",
      "('IGK', 'NoKNeighbours')\n",
      "FR\n",
      "Zero coverage 213\n",
      "Median coverage of nonzero 3182\n",
      "Coverage more than threshold: 0.784217 = 636 / 811\n",
      "CDR\n",
      "Zero coverage 730\n",
      "Median coverage of nonzero 1198\n",
      "Coverage more than threshold: 0.676871 = 199 / 294\n",
      "\n",
      "\n",
      "('IGK', 'Trivial')\n",
      "FR\n",
      "Zero coverage 203\n",
      "Median coverage of nonzero 3887\n",
      "Coverage more than threshold: 0.799026 = 656 / 821\n",
      "CDR\n",
      "Zero coverage 727\n",
      "Median coverage of nonzero 1444\n",
      "Coverage more than threshold: 0.727273 = 216 / 297\n",
      "\n",
      "\n"
     ]
    }
   ],
   "source": [
    "def get_sum_cov(matrix, threshold=300):\n",
    "    sum_cov = matrix.sum(axis=2).median(axis=1)\n",
    "    sum_cov_nonzero = sum_cov[np.where(sum_cov != 0)[0]]\n",
    "    sum_cov_threshold = sum_cov[np.where(sum_cov >= threshold)[0]]\n",
    "    l_sct = len(sum_cov_threshold)\n",
    "    z_cov = np.sum(sum_cov == 0)\n",
    "    nz_cov = np.sum(sum_cov != 0)\n",
    "    print(\"Zero coverage %d\" % z_cov)\n",
    "    print(\"Median coverage of nonzero %d\" % np.median(sum_cov_nonzero))\n",
    "    print(\"Coverage more than threshold: %lf = %d / %d\" % (float(l_sct) / nz_cov,\n",
    "                                                           l_sct, nz_cov))\n",
    "\n",
    "\n",
    "for chain_type in ['IGH', 'IGL', 'IGK']:\n",
    "    for strategy in ['NoKNeighbours', 'Trivial']:\n",
    "        print(chain_type, strategy)\n",
    "        print(\"FR\")\n",
    "        get_sum_cov(kmer_matrices_fr[(chain_type, strategy)])\n",
    "        print(\"CDR\")\n",
    "        get_sum_cov(kmer_matrices_cdr[(chain_type, strategy)])\n",
    "        print('\\n')"
   ]
  },
  {
   "cell_type": "markdown",
   "metadata": {},
   "source": [
    "# Sum without maxi"
   ]
  },
  {
   "cell_type": "code",
   "execution_count": 201,
   "metadata": {
    "collapsed": false
   },
   "outputs": [
    {
     "name": "stdout",
     "output_type": "stream",
     "text": [
      "('IGH', 'NoKNeighbours')\n",
      "FR\n",
      "Zero coverage 275\n",
      "Median coverage of nonzero 28\n",
      "Coverage more than threshold: 0.547397 = 410 / 749\n",
      "CDR\n",
      "Zero coverage 564\n",
      "Median coverage of nonzero 15\n",
      "Coverage more than threshold: 0.406522 = 187 / 460\n",
      "\n",
      "\n",
      "('IGH', 'Trivial')\n",
      "FR\n",
      "Zero coverage 238\n",
      "Median coverage of nonzero 44\n",
      "Coverage more than threshold: 0.627226 = 493 / 786\n",
      "CDR\n",
      "Zero coverage 524\n",
      "Median coverage of nonzero 32\n",
      "Coverage more than threshold: 0.558000 = 279 / 500\n",
      "\n",
      "\n",
      "('IGL', 'NoKNeighbours')\n",
      "FR\n",
      "Zero coverage 276\n",
      "Median coverage of nonzero 34\n",
      "Coverage more than threshold: 0.553476 = 414 / 748\n",
      "CDR\n",
      "Zero coverage 679\n",
      "Median coverage of nonzero 16\n",
      "Coverage more than threshold: 0.405797 = 140 / 345\n",
      "\n",
      "\n",
      "('IGL', 'Trivial')\n",
      "FR\n",
      "Zero coverage 233\n",
      "Median coverage of nonzero 84\n",
      "Coverage more than threshold: 0.713021 = 564 / 791\n",
      "CDR\n",
      "Zero coverage 625\n",
      "Median coverage of nonzero 38\n",
      "Coverage more than threshold: 0.571429 = 228 / 399\n",
      "\n",
      "\n",
      "('IGK', 'NoKNeighbours')\n",
      "FR\n",
      "Zero coverage 346\n",
      "Median coverage of nonzero 50\n",
      "Coverage more than threshold: 0.631268 = 428 / 678\n",
      "CDR\n",
      "Zero coverage 781\n",
      "Median coverage of nonzero 32\n",
      "Coverage more than threshold: 0.555556 = 135 / 243\n",
      "\n",
      "\n",
      "('IGK', 'Trivial')\n",
      "FR\n",
      "Zero coverage 309\n",
      "Median coverage of nonzero 108\n",
      "Coverage more than threshold: 0.723077 = 517 / 715\n",
      "CDR\n",
      "Zero coverage 761\n",
      "Median coverage of nonzero 80\n",
      "Coverage more than threshold: 0.726236 = 191 / 263\n",
      "\n",
      "\n"
     ]
    }
   ],
   "source": [
    "def get_sum_wm_cov(matrix, threshold=25):\n",
    "    sum_cov = (matrix.sum(axis=2) - matrix.max(axis=2)).median(axis=1)\n",
    "    sum_cov_nonzero = sum_cov[np.where(sum_cov != 0)[0]]\n",
    "    sum_cov_threshold = sum_cov[np.where(sum_cov >= threshold)[0]]\n",
    "    l_sct = len(sum_cov_threshold)\n",
    "    z_cov = np.sum(sum_cov == 0)\n",
    "    nz_cov = np.sum(sum_cov != 0)\n",
    "    print(\"Zero coverage %d\" % z_cov)\n",
    "    print(\"Median coverage of nonzero %d\" % np.median(sum_cov_nonzero))\n",
    "    print(\"Coverage more than threshold: %lf = %d / %d\" % (float(l_sct) / nz_cov,\n",
    "                                                           l_sct, nz_cov))\n",
    "    \n",
    "    \n",
    "for chain_type in ['IGH', 'IGL', 'IGK']:\n",
    "    for strategy in ['NoKNeighbours', 'Trivial']:\n",
    "        fr = kmer_matrices_fr[(chain_type, strategy)]\n",
    "        cdr = kmer_matrices_cdr[(chain_type, strategy)]\n",
    "        print(chain_type, strategy)\n",
    "        print(\"FR\")\n",
    "        get_sum_wm_cov(fr)\n",
    "        print(\"CDR\")\n",
    "        get_sum_wm_cov(cdr)\n",
    "        print('\\n')"
   ]
  },
  {
   "cell_type": "markdown",
   "metadata": {},
   "source": [
    "# Genomic Kmers"
   ]
  },
  {
   "cell_type": "code",
   "execution_count": null,
   "metadata": {
    "collapsed": true
   },
   "outputs": [],
   "source": [
    "?pd.read_csv"
   ]
  },
  {
   "cell_type": "code",
   "execution_count": null,
   "metadata": {
    "collapsed": false
   },
   "outputs": [],
   "source": [
    "genomic_marking = pd.read_csv(\"../../data/annotation/human_v_imgt.txt\", sep=\"\\t\", header=None, index_col=0)"
   ]
  },
  {
   "cell_type": "code",
   "execution_count": null,
   "metadata": {
    "collapsed": true
   },
   "outputs": [],
   "source": [
    "from Bio import SeqIO"
   ]
  },
  {
   "cell_type": "code",
   "execution_count": null,
   "metadata": {
    "collapsed": false
   },
   "outputs": [],
   "source": [
    "v_genes = list(SeqIO.parse(\"../../data/germline/human/IG/IGHV.fa\", \"fasta\"))"
   ]
  },
  {
   "cell_type": "markdown",
   "metadata": {},
   "source": [
    "Мне стало лень. Понятно, что геномных 5mer в cdr далеко не 1024, а только около половины."
   ]
  },
  {
   "cell_type": "code",
   "execution_count": null,
   "metadata": {
    "collapsed": true
   },
   "outputs": [],
   "source": [
    "import kmer_utilities.kmer_utilities as kmer_utilities"
   ]
  },
  {
   "cell_type": "code",
   "execution_count": null,
   "metadata": {
    "collapsed": false,
    "scrolled": true
   },
   "outputs": [],
   "source": [
    "central_nucl_indexes = np.array(kmer_utilities.central_nucl_indexes())\n",
    "central_nucl_indexes"
   ]
  },
  {
   "cell_type": "code",
   "execution_count": null,
   "metadata": {
    "collapsed": false
   },
   "outputs": [],
   "source": [
    "fr, cdr = np.array(fr), np.array(cdr)\n",
    "central_nucl_mask = np.zeros(fr.shape[1:], dtype=np.bool)\n",
    "central_nucl_mask[xrange(len(central_nucl_mask)),\n",
    "                  central_nucl_indexes] = True\n",
    "central_nucl_mask = np.repeat(central_nucl_mask[np.newaxis, :, :],\n",
    "                              fr.shape[0], axis=0)\n",
    "print(central_nucl_mask.shape)"
   ]
  },
  {
   "cell_type": "code",
   "execution_count": null,
   "metadata": {
    "collapsed": false
   },
   "outputs": [],
   "source": [
    "print(fr[0, :, :])\n",
    "fr_mut = fr[central_nucl_mask].reshape(34, 1024).T\n",
    "fr_mut\n",
    "\n",
    "cdr_mut = cdr[central_nucl_mask].reshape(3, 34, 1024)\n",
    "cdr_mut"
   ]
  },
  {
   "cell_type": "code",
   "execution_count": null,
   "metadata": {
    "collapsed": false
   },
   "outputs": [],
   "source": [
    "frs = []\n",
    "for i in xrange(len(fr)):\n",
    "    fr0 = np.array(fr[i, :, :])\n",
    "    fr0.shape\n",
    "\n",
    "    fr0[xrange(len(fr0)), central_nucl_indexes]\n",
    "\n",
    "    central_nucl_mask = np.zeros_like(fr0, dtype=np.bool)\n",
    "    central_nucl_mask[xrange(len(central_nucl_mask)),\n",
    "                      central_nucl_indexes] = True\n",
    "\n",
    "    fr0[:, zip(central_nucl_mask)]\n",
    "\n",
    "    fr0[~central_nucl_mask].reshape(1024, 3)\n",
    "    frs.append(fr0[:, :, np.newaxis])"
   ]
  },
  {
   "cell_type": "code",
   "execution_count": null,
   "metadata": {
    "collapsed": false
   },
   "outputs": [],
   "source": [
    "np.concatenate(frs, axis=2)"
   ]
  },
  {
   "cell_type": "code",
   "execution_count": null,
   "metadata": {
    "collapsed": false
   },
   "outputs": [],
   "source": [
    "frs[0]"
   ]
  },
  {
   "cell_type": "code",
   "execution_count": null,
   "metadata": {
    "collapsed": true
   },
   "outputs": [],
   "source": []
  }
 ],
 "metadata": {
  "kernelspec": {
   "display_name": "Python 2",
   "language": "python",
   "name": "python2"
  },
  "language_info": {
   "codemirror_mode": {
    "name": "ipython",
    "version": 2
   },
   "file_extension": ".py",
   "mimetype": "text/x-python",
   "name": "python",
   "nbconvert_exporter": "python",
   "pygments_lexer": "ipython2",
   "version": "2.7.13"
  }
 },
 "nbformat": 4,
 "nbformat_minor": 0
}
