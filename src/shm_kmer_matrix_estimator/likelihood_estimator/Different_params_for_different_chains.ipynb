{
 "cells": [
  {
   "cell_type": "code",
   "execution_count": 1,
   "metadata": {
    "collapsed": true
   },
   "outputs": [],
   "source": [
    "import seaborn as sns\n",
    "import matplotlib.pyplot as plt\n",
    "\n",
    "%matplotlib inline\n",
    "plt.rcParams['figure.figsize'] = 14, 8 # that's default image size for this interactive session"
   ]
  },
  {
   "cell_type": "code",
   "execution_count": 2,
   "metadata": {
    "collapsed": true
   },
   "outputs": [],
   "source": [
    "import shm_kmer_model_estimator.standard_model_estimations as standard_model_estimations"
   ]
  },
  {
   "cell_type": "code",
   "execution_count": 3,
   "metadata": {
    "collapsed": true
   },
   "outputs": [],
   "source": [
    "full_all_chains_model = standard_model_estimations.full_all_chains_model()\n",
    "full_igh_model = standard_model_estimations.full_igh_model()"
   ]
  },
  {
   "cell_type": "code",
   "execution_count": 4,
   "metadata": {
    "collapsed": false
   },
   "outputs": [],
   "source": [
    "all_chains_igh = full_all_chains_model['NoKNeighbours']['IGH']\n",
    "all_chains_igl = full_all_chains_model['NoKNeighbours']['IGL']\n",
    "all_chains_igk = full_all_chains_model['NoKNeighbours']['IGK']"
   ]
  },
  {
   "cell_type": "markdown",
   "metadata": {},
   "source": [
    "# Mutability"
   ]
  },
  {
   "cell_type": "code",
   "execution_count": 5,
   "metadata": {
    "collapsed": false
   },
   "outputs": [],
   "source": [
    "import sample_reader.standard_samples as standard_samples\n",
    "\n",
    "heavy_samples  = standard_samples.concatenate_kmer_freq_matrices('IGH')\n",
    "lambda_samples = standard_samples.concatenate_kmer_freq_matrices('IGL')\n",
    "kappa_samples  = standard_samples.concatenate_kmer_freq_matrices('IGK')"
   ]
  },
  {
   "cell_type": "code",
   "execution_count": 6,
   "metadata": {
    "collapsed": false
   },
   "outputs": [],
   "source": [
    "import pandas as pd\n",
    "import scipy as sp\n",
    "from mutability_diversity.calculate_mutability_diversity import *\n",
    "\n",
    "def diversity_boxplot_cross_chains(kmer,\n",
    "                                   heavy_samples=standard_samples.concatenate_kmer_freq_matrices('IGH'),\n",
    "                                   lambda_samples=standard_samples.concatenate_kmer_freq_matrices('IGL'),\n",
    "                                   kappa_samples=standard_samples.concatenate_kmer_freq_matrices('IGK'),\n",
    "                                   diversity_function=calculate_mutability,\n",
    "                                   plot=False,\n",
    "                                   balanced_design=True,\n",
    "                                   statistics_function=sp.stats.mstats.kruskalwallis):\n",
    "    f = (lambda x: calculate_mutability_diversity(x, diversity_function, good_coverage_indices=[0]))\n",
    "    nd_1d = (lambda x: np.array(x).flatten())\n",
    "    _, heavy_diversity  = f(heavy_samples.loc[:, [kmer], :])\n",
    "    _, lambda_diversity = f(lambda_samples.loc[:, [kmer], :])\n",
    "    _, kappa_diversity  = f(kappa_samples.loc[:, [kmer], :])\n",
    "    \n",
    "    if isinstance(heavy_diversity, pd.DataFrame):\n",
    "        heavy_diversity.columns = ['Heavy']\n",
    "        lambda_diversity.columns = ['Lambda']\n",
    "        kappa_diversity.columns = ['Kappa']\n",
    "    if isinstance(heavy_diversity, pd.Panel):\n",
    "        heavy_diversity.items = ['Heavy']\n",
    "        lambda_diversity.items = ['Lambda']\n",
    "        kappa_diversity.items = ['Kappa']\n",
    "    \n",
    "    all_chain_data = pd.concat((heavy_diversity,\n",
    "                                lambda_diversity,\n",
    "                                kappa_diversity\n",
    "                               ), axis=1)\n",
    "    if plot:\n",
    "        g = sns.boxplot(all_chain_data)\n",
    "        plt.title(kmer)\n",
    "    \n",
    "    if isinstance(heavy_diversity, pd.DataFrame):\n",
    "        heavy_diversity  = nd_1d(heavy_diversity)\n",
    "        lambda_diversity = nd_1d(lambda_diversity)\n",
    "        kappa_diversity  = nd_1d(kappa_diversity)\n",
    "    if isinstance(heavy_diversity, pd.Panel):\n",
    "        heavy_diversity  = np.array(heavy_diversity['Heavy']).T\n",
    "        lambda_diversity = np.array(lambda_diversity['Lambda']).T\n",
    "        kappa_diversity  = np.array(kappa_diversity['Kappa']).T\n",
    "    if balanced_design:\n",
    "        if isinstance(heavy_diversity, pd.DataFrame):\n",
    "            return statistics_function(heavy_diversity[:len(lambda_diversity)],\n",
    "                                       lambda_diversity, kappa_diversity)\n",
    "        if isinstance(heavy_diversity, pd.Panel):\n",
    "            return statistics_function(heavy_diversity.loc[:,:,:len(lambda_diversity)],\n",
    "                                       lambda_diversity, kappa_diversity)\n",
    "    return statistics_function(heavy_diversity, lambda_diversity, kappa_diversity)"
   ]
  },
  {
   "cell_type": "code",
   "execution_count": 7,
   "metadata": {
    "collapsed": false
   },
   "outputs": [],
   "source": [
    "def filter_multichain_kmers():\n",
    "    import kmer_utilities.filtering_kmers_utilities as filtering_kmers_utilities\n",
    "    import sample_reader.standard_samples as standard_samples\n",
    "    good_coverage_ind = np.array([True] * 1024)\n",
    "    for chain_type in ['IGH', 'IGK', 'IGL']:\n",
    "        indexes_chain_type, _ = \\\n",
    "        filtering_kmers_utilities.filter_by_coverage(\n",
    "            standard_samples.concatenate_kmer_freq_matrices(chain_type=chain_type, strategy='NoKNeighbours'))\n",
    "        good_coverage_ind *= indexes_chain_type\n",
    "    \n",
    "    import kmer_utilities.kmer_utilities as kmer_utilities\n",
    "    good_coverage_kmers = np.array(kmer_utilities.kmer_names())[good_coverage_ind]\n",
    "    return good_coverage_kmers"
   ]
  },
  {
   "cell_type": "code",
   "execution_count": 8,
   "metadata": {
    "collapsed": false,
    "scrolled": true
   },
   "outputs": [],
   "source": [
    "def pvalue_distr(good_coverage_kmers=filter_multichain_kmers(),\n",
    "                 balanced_design=True,\n",
    "                 statistics_function=sp.stats.mstats.kruskalwallis,\n",
    "                 diversity_function=calculate_mutability):\n",
    "    pvalues = []\n",
    "    for kmer in good_coverage_kmers:\n",
    "        pvalues.append(diversity_boxplot_cross_chains(kmer,\n",
    "                                                      balanced_design=balanced_design,\n",
    "                                                      statistics_function=statistics_function,\n",
    "                                                      diversity_function=diversity_function).pvalue)\n",
    "    pvalues = np.array(pvalues)\n",
    "    return pvalues"
   ]
  },
  {
   "cell_type": "code",
   "execution_count": 14,
   "metadata": {
    "collapsed": false
   },
   "outputs": [
    {
     "data": {
      "text/plain": [
       "0.82051282051282048"
      ]
     },
     "execution_count": 14,
     "metadata": {},
     "output_type": "execute_result"
    },
    {
     "data": {
      "image/png": "[encoded data removed]",
      "text/plain": [
       "<matplotlib.figure.Figure at 0x116d02e10>"
      ]
     },
     "metadata": {},
     "output_type": "display_data"
    }
   ],
   "source": [
    "anova = sp.stats.f_oneway\n",
    "kruskalwallis = sp.stats.mstats.kruskalwallis\n",
    "pvalues = pvalue_distr(statistics_function=kruskalwallis, balanced_design=False)\n",
    "pvalues.sort()\n",
    "\n",
    "plt.plot(pvalues)\n",
    "signif_level = 0.01\n",
    "np.mean(pvalues < signif_level / len(pvalues))\n",
    "#sns.distplot(range(len(pvalues)), pvalues)"
   ]
  },
  {
   "cell_type": "code",
   "execution_count": 10,
   "metadata": {
    "collapsed": false,
    "scrolled": true
   },
   "outputs": [
    {
     "data": {
      "text/plain": [
       "F_onewayResult(statistic=array([ 0.,  0.,  0.]), pvalue=array([ 1.,  1.,  1.]))"
      ]
     },
     "execution_count": 10,
     "metadata": {},
     "output_type": "execute_result"
    }
   ],
   "source": [
    "anova([[1, 2, 3], [2, 3, 4]], [[1, 2, 3], [2, 3, 4]])"
   ]
  },
  {
   "cell_type": "code",
   "execution_count": 11,
   "metadata": {
    "collapsed": false
   },
   "outputs": [],
   "source": [
    "import math_special_functions.manova as manova"
   ]
  },
  {
   "cell_type": "code",
   "execution_count": 12,
   "metadata": {
    "collapsed": false,
    "scrolled": false
   },
   "outputs": [
    {
     "data": {
      "text/plain": [
       "0.97435897435897434"
      ]
     },
     "execution_count": 12,
     "metadata": {},
     "output_type": "execute_result"
    },
    {
     "data": {
      "image/png": "[encoded data removed]",
      "text/plain": [
       "<matplotlib.figure.Figure at 0x11696f910>"
      ]
     },
     "metadata": {},
     "output_type": "display_data"
    }
   ],
   "source": [
    "pvalues = pvalue_distr(statistics_function=manova.manova_wilks, balanced_design=True,\n",
    "                       diversity_function=calculate_full_substitution)\n",
    "pvalues.sort()\n",
    "\n",
    "plt.plot(pvalues)\n",
    "signif_level = 0.01\n",
    "np.mean(pvalues < signif_level / len(pvalues))\n",
    "#sns.distplot(range(len(pvalues)), pvalues)"
   ]
  }
 ],
 "metadata": {
  "kernelspec": {
   "display_name": "Python 2",
   "language": "python",
   "name": "python2"
  },
  "language_info": {
   "codemirror_mode": {
    "name": "ipython",
    "version": 2
   },
   "file_extension": ".py",
   "mimetype": "text/x-python",
   "name": "python",
   "nbconvert_exporter": "python",
   "pygments_lexer": "ipython2",
   "version": "2.7.12"
  }
 },
 "nbformat": 4,
 "nbformat_minor": 0
}
