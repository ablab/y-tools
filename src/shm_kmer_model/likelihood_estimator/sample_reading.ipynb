{
 "cells": [
  {
   "cell_type": "code",
   "execution_count": 21,
   "metadata": {
    "collapsed": false
   },
   "outputs": [],
   "source": [
    "import numpy as np\n",
    "import pandas as pd\n",
    "from sample_reader.sample_reader import SampleReader"
   ]
  },
  {
   "cell_type": "code",
   "execution_count": 2,
   "metadata": {
    "collapsed": false,
    "scrolled": true
   },
   "outputs": [],
   "source": [
    "samples_fv = SampleReader().read('AbVitro/flu_time_course/FV/', ['25'])\n",
    "samples_gmc = SampleReader().read('AbVitro/flu_time_course/GMC/', ['8'])\n",
    "samples_ido = SampleReader().read('AbVitro/flu_time_course/IDO/')\n",
    "samples_age = SampleReader().read('age/')\n",
    "samples_paired = SampleReader().read('AbVitro/paired/')"
   ]
  },
  {
   "cell_type": "code",
   "execution_count": 3,
   "metadata": {
    "collapsed": false,
    "scrolled": true
   },
   "outputs": [],
   "source": [
    "from shm_kmer_model_estimator.shm_kmer_model_estimator import ShmKmerModelEstimator"
   ]
  },
  {
   "cell_type": "code",
   "execution_count": 4,
   "metadata": {
    "collapsed": false
   },
   "outputs": [
    {
     "name": "stdout",
     "output_type": "stream",
     "text": [
      "NoKNeighbours: IGH\n"
     ]
    },
    {
     "name": "stderr",
     "output_type": "stream",
     "text": [
      "/Users/andrewbzikadze/anaconda/envs/python2.7/lib/python2.7/site-packages/numpy/core/_methods.py:59: RuntimeWarning: Mean of empty slice.\n",
      "  warnings.warn(\"Mean of empty slice.\", RuntimeWarning)\n"
     ]
    },
    {
     "name": "stdout",
     "output_type": "stream",
     "text": [
      "Trivial: IGH\n"
     ]
    }
   ],
   "source": [
    "estimator = ShmKmerModelEstimator()\n",
    "est_model = estimator.estimate_models_of_one_type((samples_age,\n",
    "                                                   samples_ido,\n",
    "                                                   samples_fv,\n",
    "                                                   samples_gmc,\n",
    "                                                   samples_paired\n",
    "                                                  ),\n",
    "                                                  chains=['IGH'])"
   ]
  },
  {
   "cell_type": "code",
   "execution_count": 9,
   "metadata": {
    "collapsed": false,
    "scrolled": true
   },
   "outputs": [],
   "source": [
    "import shm_kmer_model.shm_kmer_model as shm_kmer_model"
   ]
  },
  {
   "cell_type": "code",
   "execution_count": 7,
   "metadata": {
    "collapsed": false
   },
   "outputs": [],
   "source": [
    "#est_model['NoKNeighbours']['IGH'].to_csv('/Users/andrewbzikadze/chihua/datasets/shm_model_no_kneighbours.csv', na_rep='NaN')\n",
    "#est_model['Trivial']['IGH'].to_csv('/Users/andrewbzikadze/chihua/datasets/shm_model_trivial.csv', na_rep='NaN')"
   ]
  },
  {
   "cell_type": "code",
   "execution_count": 15,
   "metadata": {
    "collapsed": true
   },
   "outputs": [],
   "source": [
    "def apply_to_datasets(datasets, func):\n",
    "    result = dict.fromkeys(datasets)\n",
    "    for strategy in datasets:\n",
    "        result[strategy] = dict.fromkeys(datasets[strategy])\n",
    "        for chain_type in datasets[strategy]:\n",
    "            result[strategy][chain_type] = \\\n",
    "            func(datasets[strategy][chain_type].get_raw_dataset())\n",
    "    return result"
   ]
  },
  {
   "cell_type": "code",
   "execution_count": 16,
   "metadata": {
    "collapsed": false
   },
   "outputs": [
    {
     "data": {
      "text/plain": [
       "{'NoKNeighbours': {'IGH': 0.1611328125}, 'Trivial': {'IGH': 0.1201171875}}"
      ]
     },
     "execution_count": 16,
     "metadata": {},
     "output_type": "execute_result"
    }
   ],
   "source": [
    "apply_to_datasets(est_model, (lambda x: x.isnull().any(axis=1).mean()))"
   ]
  },
  {
   "cell_type": "code",
   "execution_count": 17,
   "metadata": {
    "collapsed": false
   },
   "outputs": [
    {
     "data": {
      "text/plain": [
       "{'NoKNeighbours': {'IGH': 0.8505859375}, 'Trivial': {'IGH': 0.9228515625}}"
      ]
     },
     "execution_count": 17,
     "metadata": {},
     "output_type": "execute_result"
    }
   ],
   "source": [
    "apply_to_datasets(est_model, (lambda x: x['success_optim_beta'].mean()))"
   ]
  },
  {
   "cell_type": "code",
   "execution_count": 18,
   "metadata": {
    "collapsed": false,
    "scrolled": true
   },
   "outputs": [
    {
     "data": {
      "text/plain": [
       "{'NoKNeighbours': {'IGH': 0.98828125}, 'Trivial': {'IGH': 0.994140625}}"
      ]
     },
     "execution_count": 18,
     "metadata": {},
     "output_type": "execute_result"
    }
   ],
   "source": [
    "apply_to_datasets(est_model, lambda x: x['success_optim_dir'].mean())"
   ]
  },
  {
   "cell_type": "code",
   "execution_count": 22,
   "metadata": {
    "collapsed": true
   },
   "outputs": [],
   "source": [
    "def sd_beta(x):\n",
    "    a, b = x['beta_shape1'], x['beta_shape2']\n",
    "    return np.sqrt(a * b / ((a + b)**2 * (a + b + 1)))"
   ]
  },
  {
   "cell_type": "code",
   "execution_count": 23,
   "metadata": {
    "collapsed": false
   },
   "outputs": [],
   "source": [
    "apply_to_datasets(est_model, sd_beta)\n",
    "None"
   ]
  },
  {
   "cell_type": "code",
   "execution_count": 28,
   "metadata": {
    "collapsed": true
   },
   "outputs": [],
   "source": [
    "def sd_dir(x):\n",
    "    alpha = x.ix[:, np.arange(2, 5)]\n",
    "    alpha_sum = np.sum(alpha)\n",
    "    denominator = alpha_sum * np.sqrt(alpha_sum + 1)\n",
    "    return np.sqrt(alpha * (alpha_sum - alpha)) / denominator"
   ]
  },
  {
   "cell_type": "code",
   "execution_count": 25,
   "metadata": {
    "collapsed": false
   },
   "outputs": [],
   "source": [
    "apply_to_datasets(est_model, sd_dir)\n",
    "None"
   ]
  },
  {
   "cell_type": "code",
   "execution_count": 26,
   "metadata": {
    "collapsed": false
   },
   "outputs": [
    {
     "data": {
      "text/plain": [
       "{'NoKNeighbours': {'IGH': 0.017479290381984831},\n",
       " 'Trivial': {'IGH': 0.014590950009082691}}"
      ]
     },
     "execution_count": 26,
     "metadata": {},
     "output_type": "execute_result"
    }
   ],
   "source": [
    "apply_to_datasets(est_model, (lambda x: np.nanstd(np.array(x.ix[:,0:2].T / np.sum(x.ix[:,0:2], axis=1)).T - \\\n",
    "                                        np.array(x.ix[:,7:9]))))"
   ]
  },
  {
   "cell_type": "code",
   "execution_count": 27,
   "metadata": {
    "collapsed": false
   },
   "outputs": [
    {
     "data": {
      "text/plain": [
       "{'NoKNeighbours': {'IGH': 0.033168516056584725},\n",
       " 'Trivial': {'IGH': 0.02091559250794919}}"
      ]
     },
     "execution_count": 27,
     "metadata": {},
     "output_type": "execute_result"
    }
   ],
   "source": [
    "apply_to_datasets(est_model, (lambda x: np.nanstd(np.array(x.ix[:,2:5].T / np.sum(x.ix[:,2:5], axis=1)).T - \\\n",
    "                                        np.array(x.ix[:,9:12]))))"
   ]
  },
  {
   "cell_type": "code",
   "execution_count": null,
   "metadata": {
    "collapsed": true
   },
   "outputs": [],
   "source": []
  }
 ],
 "metadata": {
  "kernelspec": {
   "display_name": "Python 2",
   "language": "python",
   "name": "python2"
  },
  "language_info": {
   "codemirror_mode": {
    "name": "ipython",
    "version": 2
   },
   "file_extension": ".py",
   "mimetype": "text/x-python",
   "name": "python",
   "nbconvert_exporter": "python",
   "pygments_lexer": "ipython2",
   "version": "2.7.11"
  }
 },
 "nbformat": 4,
 "nbformat_minor": 0
}
