{
 "cells": [
  {
   "cell_type": "code",
   "execution_count": 1,
   "metadata": {
    "collapsed": false
   },
   "outputs": [],
   "source": [
    "from scipy.special import gammaln, betaln, psi\n",
    "from scipy.optimize import check_grad\n",
    "from scipy.optimize import minimize, approx_fprime\n",
    "from math_special_functions import multibetaln, dibetaln, dimultibetaln\n",
    "import numpy as np"
   ]
  },
  {
   "cell_type": "code",
   "execution_count": 2,
   "metadata": {
    "collapsed": true
   },
   "outputs": [],
   "source": [
    "class ShmKmerLikelihood:\n",
    "    def __init__(self, sample, nonmutated_ind, check_gradient=False, number_of_tests=None):\n",
    "        self.full_sample = sample\n",
    "        self.mutated_sample = np.delete(sample, nonmutated_ind, 1)\n",
    "        self.nonmutated_ind = nonmutated_ind\n",
    "        self.n_all = np.sum(self.full_sample, axis=1)\n",
    "        self.n_mutated = np.sum(self.mutated_sample, axis=1)\n",
    "        if check_gradient:\n",
    "            if number_of_tests is None:\n",
    "                print(\"Supply number of tests for check_gradient.\")\n",
    "            else:\n",
    "                self.__check_gradient(number_of_tests)\n",
    "    \n",
    "    def likelihood(self, beta_shape1, beta_shape2, dir_lambda):\n",
    "        result_p11 = betaln(beta_shape1 + self.n_mutated,\n",
    "                            beta_shape2 + self.n_all - self.n_mutated)\n",
    "        result_p12 = betaln(beta_shape1, beta_shape2)\n",
    "        \n",
    "        result_p21 = multibetaln(self.mutated_sample + dir_lambda, 1)\n",
    "        result_p22 = multibetaln(dir_lambda)\n",
    "            \n",
    "        return np.sum(result_p11 - result_p12 + result_p21 - result_p22)\n",
    "    \n",
    "    def gradient(self, beta_shape1, beta_shape2, dir_lambda):\n",
    "        N = self.full_sample.shape[0]\n",
    "        result_p11 = np.sum(dibetaln(beta_shape1 + self.n_mutated,\n",
    "                           beta_shape2 + self.n_all - self.n_mutated), 0)\n",
    "        result_p12 = dibetaln(beta_shape1, beta_shape2).flatten() * N\n",
    "\n",
    "        result_p21 = np.sum(dimultibetaln(self.mutated_sample + dir_lambda), 0)\n",
    "        result_p22 = dimultibetaln(dir_lambda) * N\n",
    "    \n",
    "        return np.concatenate((result_p11 - result_p12,\n",
    "                               result_p21 - result_p22))\n",
    "    \n",
    "    def __check_gradient(self, number_of_tests=None):\n",
    "        cglikelihood = (lambda x: self.likelihood(beta_shape1=x[0], beta_shape2=x[1], dir_lambda=x[2:]))\n",
    "        cggrad       = (lambda x: self.gradient(  beta_shape1=x[0], beta_shape2=x[1], dir_lambda=x[2:]))\n",
    "        if number_of_tests is not None:\n",
    "            for i in xrange(number_of_tests):\n",
    "                point = np.random.exponential(size=5, scale=10)\n",
    "                print(check_grad(cglikelihood, cggrad, x0=point))\n",
    "        if x is not None:\n",
    "            print(check_grad(cglikelihood, cggrad, x))"
   ]
  },
  {
   "cell_type": "code",
   "execution_count": 3,
   "metadata": {
    "collapsed": false
   },
   "outputs": [],
   "source": [
    "class ShmKmerLikelihoodOptimizator:\n",
    "    def __init__(self, shm_kmer_likelihood, x0=None, bounds=None, method='L-BFGS-B'):\n",
    "        if x0 is None:\n",
    "            self.x0 = self.__get_start_point(shm_kmer_likelihood)\n",
    "        if bounds is None:\n",
    "            self.bounds=((0, None),) * (2 + shm_kmer_likelihood.mutated_sample.shape[1])\n",
    "        self.method=method\n",
    "        self.lkhd = (lambda x: -shm_kmer_likelihood.likelihood(beta_shape1=x[0],\n",
    "                                                               beta_shape2=x[1],\n",
    "                                                               dir_lambda=x[2:]))\n",
    "        self.grad = (lambda x: -shm_kmer_likelihood.gradient(beta_shape1=x[0],\n",
    "                                                             beta_shape2=x[1],\n",
    "                                                             dir_lambda=x[2:]))\n",
    "        \n",
    "    def __get_start_point(self, shm_kmer_likelihood, scale_beta=1, scale_dir=1):\n",
    "        beta_shape1 = np.mean(1 - shm_kmer_likelihood.full_sample[:,shm_kmer_likelihood.nonmutated_ind] / \\\n",
    "                              np.sum(shm_kmer_likelihood.full_sample, axis=1, dtype=float))\n",
    "        beta_shape2 = 1 - beta_shape1\n",
    "        beta_shape1 *= scale_beta\n",
    "        beta_shape2 *= scale_beta\n",
    "        \n",
    "        scaled_mutated_sample = (shm_kmer_likelihood.mutated_sample.T / \\\n",
    "                                 np.sum(shm_kmer_likelihood.mutated_sample, axis=1, dtype=float)).T\n",
    "        dir_lambda = np.mean(scaled_mutated_sample, axis=0, dtype=float)\n",
    "        dir_lambda *= scale_dir\n",
    "        return np.concatenate([np.array([beta_shape1, beta_shape2]), dir_lambda])\n",
    "    \n",
    "    def maximize(self):\n",
    "        minimize_result = minimize(fun=self.lkhd,\n",
    "                                   x0=self.x0,\n",
    "                                   bounds=self.bounds,\n",
    "                                   method=self.method,\n",
    "                                   jac=self.grad)\n",
    "        return minimize_result.x"
   ]
  },
  {
   "cell_type": "code",
   "execution_count": 4,
   "metadata": {
    "collapsed": true
   },
   "outputs": [],
   "source": [
    "def generate_sample(sample_size, number_samples,\n",
    "                    real_beta_shape1, real_beta_shape2, real_dir_lambda,\n",
    "                    nonmutated_ind):\n",
    "    mutation_bin_prob = np.random.beta(real_beta_shape1, real_beta_shape2, size=number_samples)\n",
    "    is_mutated = np.random.binomial(sample_size, p=mutation_bin_prob, size=number_samples)\n",
    "\n",
    "    mutation_dir_probs = np.random.dirichlet(real_dir_lambda, size=number_samples)\n",
    "    sample = []\n",
    "    for n, pvals in zip(is_mutated, mutation_dir_probs):\n",
    "        sample.append(np.random.multinomial(n=n, pvals=pvals, size=1))\n",
    "    sample = np.array(sample).reshape((number_samples, len(real_dir_lambda)))\n",
    "    final_sample = np.insert(sample, nonmutated_ind, sample_size - is_mutated, axis=1)\n",
    "    return final_sample"
   ]
  },
  {
   "cell_type": "code",
   "execution_count": 5,
   "metadata": {
    "collapsed": true
   },
   "outputs": [],
   "source": [
    "sample_nonmutated_ind = 3"
   ]
  },
  {
   "cell_type": "code",
   "execution_count": 15,
   "metadata": {
    "collapsed": false,
    "scrolled": true
   },
   "outputs": [],
   "source": [
    "sample = generate_sample(sample_size=10000, number_samples=1000,\n",
    "                         nonmutated_ind=sample_nonmutated_ind,\n",
    "                         real_beta_shape1=3,\n",
    "                         real_beta_shape2=1,\n",
    "                         real_dir_lambda=np.array([10, 12, 13]))"
   ]
  },
  {
   "cell_type": "code",
   "execution_count": 16,
   "metadata": {
    "collapsed": false
   },
   "outputs": [],
   "source": [
    "lkho = ShmKmerLikelihood(sample, sample_nonmutated_ind)"
   ]
  },
  {
   "cell_type": "code",
   "execution_count": 17,
   "metadata": {
    "collapsed": false,
    "scrolled": true
   },
   "outputs": [
    {
     "data": {
      "text/plain": [
       "array([  3.33900193,   1.0841127 ,  10.30593461,  12.15386252,  13.32963033])"
      ]
     },
     "execution_count": 17,
     "metadata": {},
     "output_type": "execute_result"
    }
   ],
   "source": [
    "ShmKmerLikelihoodOptimizator(lkho).maximize()"
   ]
  },
  {
   "cell_type": "code",
   "execution_count": null,
   "metadata": {
    "collapsed": true
   },
   "outputs": [],
   "source": []
  }
 ],
 "metadata": {
  "kernelspec": {
   "display_name": "Python 2",
   "language": "python",
   "name": "python2"
  },
  "language_info": {
   "codemirror_mode": {
    "name": "ipython",
    "version": 2
   },
   "file_extension": ".py",
   "mimetype": "text/x-python",
   "name": "python",
   "nbconvert_exporter": "python",
   "pygments_lexer": "ipython2",
   "version": "2.7.11"
  }
 },
 "nbformat": 4,
 "nbformat_minor": 0
}
