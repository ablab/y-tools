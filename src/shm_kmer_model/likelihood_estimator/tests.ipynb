{
 "cells": [
  {
   "cell_type": "markdown",
   "metadata": {
    "collapsed": true
   },
   "source": [
    "# Kmer Utilities\n",
    "## kmer_utilities.py"
   ]
  },
  {
   "cell_type": "code",
   "execution_count": 33,
   "metadata": {
    "collapsed": true
   },
   "outputs": [],
   "source": [
    "import kmer_utilities.kmer_utilities as kmer_utilities"
   ]
  },
  {
   "cell_type": "code",
   "execution_count": 34,
   "metadata": {
    "collapsed": false
   },
   "outputs": [],
   "source": [
    "kmer_len = 5\n",
    "bases = kmer_utilities.nucl_bases()\n",
    "kmer_names = kmer_utilities.kmer_names(kmer_len)\n",
    "assert len(kmer_names) == 1024"
   ]
  },
  {
   "cell_type": "code",
   "execution_count": 35,
   "metadata": {
    "collapsed": false
   },
   "outputs": [],
   "source": [
    "central_nucl_ind = kmer_utilities.central_nucl_indexes(kmer_len)"
   ]
  },
  {
   "cell_type": "code",
   "execution_count": 36,
   "metadata": {
    "collapsed": false
   },
   "outputs": [],
   "source": [
    "for i in xrange(len(bases)**kmer_len):\n",
    "    assert kmer_names[i][kmer_len // 2] == bases[central_nucl_ind[i]]"
   ]
  },
  {
   "cell_type": "markdown",
   "metadata": {},
   "source": [
    "## filtering_kmers_utilities.py"
   ]
  },
  {
   "cell_type": "code",
   "execution_count": 37,
   "metadata": {
    "collapsed": false
   },
   "outputs": [],
   "source": [
    "import sample_reader.standard_samples as standard_samples\n",
    "concatenated_samples = standard_samples.concatenate_samples('IGH')\n",
    "#concatenated_samples.iloc[:, [10, 12], :]"
   ]
  },
  {
   "cell_type": "code",
   "execution_count": 38,
   "metadata": {
    "collapsed": false
   },
   "outputs": [
    {
     "data": {
      "text/plain": [
       "<class 'pandas.core.panel.Panel'>\n",
       "Dimensions: 37 (items) x 1024 (major_axis) x 4 (minor_axis)\n",
       "Items axis: AbVitro/flu_time_course/FV/21 to age/8\n",
       "Major_axis axis: AAAAA to TTTTT\n",
       "Minor_axis axis: A to T"
      ]
     },
     "execution_count": 38,
     "metadata": {},
     "output_type": "execute_result"
    },
    {
     "data": {
      "text/plain": [
       "<class 'pandas.core.panel.Panel'>\n",
       "Dimensions: 37 (items) x 1024 (major_axis) x 4 (minor_axis)\n",
       "Items axis: AbVitro/flu_time_course/FV/21 to age/8\n",
       "Major_axis axis: AAAAA to TTTTT\n",
       "Minor_axis axis: A to T"
      ]
     },
     "execution_count": 38,
     "metadata": {},
     "output_type": "execute_result"
    }
   ],
   "source": [
    "concatenated_samples"
   ]
  },
  {
   "cell_type": "code",
   "execution_count": 39,
   "metadata": {
    "collapsed": false
   },
   "outputs": [],
   "source": [
    "import kmer_utilities.filtering_kmers_utilities as filtering_kmers_utilities\n",
    "import pandas as pd\n",
    "a, b = filtering_kmers_utilities.filter_by_coverage(concatenated_samples, mean_function=pd.DataFrame.min)\n",
    "assert b.apply(lambda x: x < 100).sum().sum().sum() == 0"
   ]
  },
  {
   "cell_type": "code",
   "execution_count": 40,
   "metadata": {
    "collapsed": false
   },
   "outputs": [
    {
     "data": {
      "text/plain": [
       "Index([u'AbVitro/flu_time_course/FV/21', u'AbVitro/flu_time_course/FV/22',\n",
       "       u'AbVitro/flu_time_course/FV/23', u'AbVitro/flu_time_course/FV/24',\n",
       "       u'AbVitro/flu_time_course/FV/26', u'AbVitro/flu_time_course/FV/27',\n",
       "       u'AbVitro/flu_time_course/FV/28', u'AbVitro/flu_time_course/FV/29',\n",
       "       u'AbVitro/flu_time_course/FV/30', u'AbVitro/flu_time_course/IDO/11',\n",
       "       u'AbVitro/flu_time_course/IDO/12', u'AbVitro/flu_time_course/IDO/13',\n",
       "       u'AbVitro/flu_time_course/IDO/14', u'AbVitro/flu_time_course/IDO/15',\n",
       "       u'AbVitro/flu_time_course/IDO/16', u'AbVitro/flu_time_course/IDO/17',\n",
       "       u'AbVitro/flu_time_course/IDO/18', u'AbVitro/flu_time_course/IDO/19',\n",
       "       u'AbVitro/flu_time_course/IDO/20', u'AbVitro/flu_time_course/GMC/1',\n",
       "       u'AbVitro/flu_time_course/GMC/10', u'AbVitro/flu_time_course/GMC/2',\n",
       "       u'AbVitro/flu_time_course/GMC/3', u'AbVitro/flu_time_course/GMC/4',\n",
       "       u'AbVitro/flu_time_course/GMC/5', u'AbVitro/flu_time_course/GMC/6',\n",
       "       u'AbVitro/flu_time_course/GMC/7', u'AbVitro/flu_time_course/GMC/9',\n",
       "       u'AbVitro/paired/1', u'age/1', u'age/2', u'age/3', u'age/4', u'age/5',\n",
       "       u'age/6', u'age/7', u'age/8'],\n",
       "      dtype='object')"
      ]
     },
     "execution_count": 40,
     "metadata": {},
     "output_type": "execute_result"
    },
    {
     "data": {
      "text/plain": [
       "Index([u'AbVitro/flu_time_course/FV/21', u'AbVitro/flu_time_course/FV/22',\n",
       "       u'AbVitro/flu_time_course/FV/23', u'AbVitro/flu_time_course/FV/24',\n",
       "       u'AbVitro/flu_time_course/FV/26', u'AbVitro/flu_time_course/FV/27',\n",
       "       u'AbVitro/flu_time_course/FV/28', u'AbVitro/flu_time_course/FV/29',\n",
       "       u'AbVitro/flu_time_course/FV/30', u'AbVitro/flu_time_course/IDO/11',\n",
       "       u'AbVitro/flu_time_course/IDO/12', u'AbVitro/flu_time_course/IDO/13',\n",
       "       u'AbVitro/flu_time_course/IDO/14', u'AbVitro/flu_time_course/IDO/15',\n",
       "       u'AbVitro/flu_time_course/IDO/16', u'AbVitro/flu_time_course/IDO/17',\n",
       "       u'AbVitro/flu_time_course/IDO/18', u'AbVitro/flu_time_course/IDO/19',\n",
       "       u'AbVitro/flu_time_course/IDO/20', u'AbVitro/flu_time_course/GMC/1',\n",
       "       u'AbVitro/flu_time_course/GMC/10', u'AbVitro/flu_time_course/GMC/2',\n",
       "       u'AbVitro/flu_time_course/GMC/3', u'AbVitro/flu_time_course/GMC/4',\n",
       "       u'AbVitro/flu_time_course/GMC/5', u'AbVitro/flu_time_course/GMC/6',\n",
       "       u'AbVitro/flu_time_course/GMC/7', u'AbVitro/flu_time_course/GMC/9',\n",
       "       u'AbVitro/paired/1', u'age/1', u'age/2', u'age/3', u'age/4', u'age/5',\n",
       "       u'age/6', u'age/7', u'age/8'],\n",
       "      dtype='object')"
      ]
     },
     "execution_count": 40,
     "metadata": {},
     "output_type": "execute_result"
    }
   ],
   "source": [
    "concatenated_samples.items"
   ]
  },
  {
   "cell_type": "code",
   "execution_count": null,
   "metadata": {
    "collapsed": true
   },
   "outputs": [],
   "source": []
  }
 ],
 "metadata": {
  "kernelspec": {
   "display_name": "Python 2",
   "language": "python",
   "name": "python2"
  },
  "language_info": {
   "codemirror_mode": {
    "name": "ipython",
    "version": 2
   },
   "file_extension": ".py",
   "mimetype": "text/x-python",
   "name": "python",
   "nbconvert_exporter": "python",
   "pygments_lexer": "ipython2",
   "version": "2.7.12"
  }
 },
 "nbformat": 4,
 "nbformat_minor": 0
}
