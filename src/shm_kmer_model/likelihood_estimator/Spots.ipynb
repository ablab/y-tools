{
 "cells": [
  {
   "cell_type": "markdown",
   "metadata": {},
   "source": [
    "# Spots in our model"
   ]
  },
  {
   "cell_type": "code",
   "execution_count": 5,
   "metadata": {
    "collapsed": true
   },
   "outputs": [],
   "source": [
    "import seaborn as sns\n",
    "import matplotlib.pyplot as plt\n",
    "\n",
    "%matplotlib inline\n",
    "plt.rcParams['figure.figsize'] = 14, 12 # that's default image size for this interactive session"
   ]
  },
  {
   "cell_type": "code",
   "execution_count": 6,
   "metadata": {
    "collapsed": true
   },
   "outputs": [],
   "source": [
    "from sample_reader.sample_reader import SampleReader"
   ]
  },
  {
   "cell_type": "code",
   "execution_count": 7,
   "metadata": {
    "collapsed": false
   },
   "outputs": [],
   "source": [
    "samples_fv = SampleReader().read('AbVitro/flu_time_course/FV/', ['25'])\n",
    "samples_gmc = SampleReader().read('AbVitro/flu_time_course/GMC/', ['8'])\n",
    "samples_ido = SampleReader().read('AbVitro/flu_time_course/IDO/')\n",
    "samples_age = SampleReader().read('age/')\n",
    "samples_paired = SampleReader().read('AbVitro/paired/')"
   ]
  },
  {
   "cell_type": "code",
   "execution_count": 8,
   "metadata": {
    "collapsed": true
   },
   "outputs": [],
   "source": [
    "import spots.spots as spots\n",
    "\n",
    "hotspots, coldspots = spots.hotspots(), spots.coldspots()\n",
    "hotspots_ind, coldspots_ind = spots.hotspots_indexes(), spots.coldspots_indexes()"
   ]
  },
  {
   "cell_type": "code",
   "execution_count": 9,
   "metadata": {
    "collapsed": true
   },
   "outputs": [],
   "source": [
    "def get_samples(chain_type='IGH', strategy='NoKNeighbours'):\n",
    "    result = np.concatenate((samples_fv[strategy][chain_type],\n",
    "                             samples_ido[strategy][chain_type],\n",
    "                             samples_gmc[strategy][chain_type],\n",
    "                             samples_paired[strategy][chain_type]))\n",
    "    if chain_type != 'IGH':\n",
    "        return result\n",
    "    else:\n",
    "        return np.concatenate((result, samples_age[strategy][chain_type]))"
   ]
  },
  {
   "cell_type": "code",
   "execution_count": null,
   "metadata": {
    "collapsed": true
   },
   "outputs": [],
   "source": []
  }
 ],
 "metadata": {
  "kernelspec": {
   "display_name": "Python 2",
   "language": "python",
   "name": "python2"
  },
  "language_info": {
   "codemirror_mode": {
    "name": "ipython",
    "version": 2
   },
   "file_extension": ".py",
   "mimetype": "text/x-python",
   "name": "python",
   "nbconvert_exporter": "python",
   "pygments_lexer": "ipython2",
   "version": "2.7.11"
  }
 },
 "nbformat": 4,
 "nbformat_minor": 0
}
