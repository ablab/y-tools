{
 "cells": [
  {
   "cell_type": "code",
   "execution_count": 75,
   "metadata": {
    "collapsed": true
   },
   "outputs": [],
   "source": [
    "import shm_kmer_model_estimator.standard_model_estimations as standard_model_estimations"
   ]
  },
  {
   "cell_type": "code",
   "execution_count": 76,
   "metadata": {
    "collapsed": false
   },
   "outputs": [],
   "source": [
    "igh_model = standard_model_estimations.full_igh_model()"
   ]
  },
  {
   "cell_type": "code",
   "execution_count": 77,
   "metadata": {
    "collapsed": false
   },
   "outputs": [],
   "source": [
    "igh_model = igh_model['NoKNeighbours']['IGH']"
   ]
  },
  {
   "cell_type": "code",
   "execution_count": 78,
   "metadata": {
    "collapsed": false
   },
   "outputs": [
    {
     "data": {
      "text/plain": [
       "0.16456652442773134"
      ]
     },
     "execution_count": 78,
     "metadata": {},
     "output_type": "execute_result"
    }
   ],
   "source": [
    "igh_model.expect_subst_prob('AAAAA', 'C')"
   ]
  },
  {
   "cell_type": "code",
   "execution_count": 79,
   "metadata": {
    "collapsed": true
   },
   "outputs": [],
   "source": [
    "import kmer_utilities.kmer_utilities as kmer_utilities"
   ]
  },
  {
   "cell_type": "code",
   "execution_count": 80,
   "metadata": {
    "collapsed": false
   },
   "outputs": [],
   "source": [
    "kmers = kmer_utilities.kmer_names()"
   ]
  },
  {
   "cell_type": "code",
   "execution_count": 131,
   "metadata": {
    "collapsed": false
   },
   "outputs": [],
   "source": [
    "mutation_ratios = []\n",
    "for kmer in kmers:\n",
    "    bases = list('ACGT')\n",
    "    cent_ind = len(kmer) / 2\n",
    "    cent_nucl = kmer[cent_ind]\n",
    "    bases.remove(kmer[cent_ind])\n",
    "    for base in bases:\n",
    "        mut_kmer = list(kmer)\n",
    "        mut_kmer[cent_ind] = base\n",
    "        mut_kmer = ''.join(mut_kmer)\n",
    "        forward_mut_prob = igh_model.expect_subst_prob(kmer, base)\n",
    "        backward_mut_prob = igh_model.expect_subst_prob(mut_kmer, cent_nucl)\n",
    "        \n",
    "        mutation_ratio = forward_mut_prob / backward_mut_prob\n",
    "        if mutation_ratio < 1:\n",
    "            mutation_ratio = 1. / mutation_ratio\n",
    "        mutation_ratios.append(mutation_ratio)"
   ]
  },
  {
   "cell_type": "code",
   "execution_count": 132,
   "metadata": {
    "collapsed": false
   },
   "outputs": [],
   "source": [
    "mutation_ratios = np.array(mutation_ratios)"
   ]
  },
  {
   "cell_type": "code",
   "execution_count": 133,
   "metadata": {
    "collapsed": false
   },
   "outputs": [],
   "source": [
    "mutation_ratios = mutation_ratios[~np.isnan(mutation_ratios)]\n",
    "mutation_ratios = np.array(list(set(mutation_ratios)))"
   ]
  },
  {
   "cell_type": "code",
   "execution_count": 135,
   "metadata": {
    "collapsed": false
   },
   "outputs": [],
   "source": [
    "mutation_ratios = mutation_ratios[mutation_ratios <= 8]"
   ]
  },
  {
   "cell_type": "code",
   "execution_count": 136,
   "metadata": {
    "collapsed": true
   },
   "outputs": [],
   "source": [
    "import seaborn\n",
    "%matplotlib inline"
   ]
  },
  {
   "cell_type": "code",
   "execution_count": 137,
   "metadata": {
    "collapsed": false
   },
   "outputs": [
    {
     "data": {
      "text/plain": [
       "<matplotlib.axes._subplots.AxesSubplot at 0x11b804e90>"
      ]
     },
     "execution_count": 137,
     "metadata": {},
     "output_type": "execute_result"
    },
    {
     "data": {
      "image/png": "[encoded data removed]",
      "text/plain": [
       "<matplotlib.figure.Figure at 0x11b6d3690>"
      ]
     },
     "metadata": {},
     "output_type": "display_data"
    }
   ],
   "source": [
    "seaborn.distplot(mutation_ratios)"
   ]
  },
  {
   "cell_type": "code",
   "execution_count": 148,
   "metadata": {
    "collapsed": false
   },
   "outputs": [],
   "source": [
    "import sample_reader.standard_samples as standard_samples\n",
    "import pandas as pd"
   ]
  },
  {
   "cell_type": "code",
   "execution_count": 149,
   "metadata": {
    "collapsed": false
   },
   "outputs": [],
   "source": [
    "samples = standard_samples.concatenate_kmer_freq_matrices()"
   ]
  },
  {
   "cell_type": "code",
   "execution_count": 165,
   "metadata": {
    "collapsed": false,
    "scrolled": true
   },
   "outputs": [
    {
     "data": {
      "text/plain": [
       "array([ 0.20754717,  0.10526316,  0.15      ,  0.0952381 ,  0.24873096,\n",
       "        0.0625    ,  0.04347826,  0.03225806,  0.03703704,  0.01123596,\n",
       "        0.07751938,  0.07194245,  0.02307692,  0.01052632,  0.01724138,\n",
       "        0.        ,  0.02803738,  0.13829787,  0.03378378,  0.03508772,\n",
       "        0.02542373,  0.20895522,  0.12121212,  0.        ,  0.04347826,\n",
       "        0.09090909,  0.1147541 ,  0.08411215,  0.07038123,  0.10588235,\n",
       "        0.13043478,  0.15254237,  0.04040404,  0.09467456,  0.08490566,\n",
       "        0.09009009,  0.06944444,  0.16571429])"
      ]
     },
     "execution_count": 165,
     "metadata": {},
     "output_type": "execute_result"
    }
   ],
   "source": [
    "np.array(samples.loc[:, 'AAAAA', 'T'] / samples.loc[:, 'AAAAA', ['G', 'C', 'T']].sum())"
   ]
  },
  {
   "cell_type": "code",
   "execution_count": 206,
   "metadata": {
    "collapsed": false
   },
   "outputs": [],
   "source": [
    "from scipy.stats import mannwhitneyu, ttest_ind\n",
    "pvalues = []\n",
    "for kmer in kmers:\n",
    "    bases = list('ACGT')\n",
    "    cent_ind = len(kmer) / 2\n",
    "    cent_nucl = kmer[cent_ind]\n",
    "    bases.remove(kmer[cent_ind])\n",
    "    for base in bases:\n",
    "        backward_bases = list('ACGT')\n",
    "        backward_bases.remove(base)\n",
    "        mut_kmer = list(kmer)\n",
    "        mut_kmer[cent_ind] = base\n",
    "        mut_kmer = ''.join(mut_kmer)\n",
    "\n",
    "        forward_sum = np.array(samples.loc[:, kmer, bases].sum())\n",
    "        backward_sum = np.array(samples.loc[:, mut_kmer, backward_bases].sum())\n",
    "        if min(np.median(samples.loc[:, kmer, base]), np.median(samples.loc[:, mut_kmer, cent_nucl])) <= 20:\n",
    "            continue\n",
    "\n",
    "        forward_sample  = np.array(samples.loc[:, kmer, base] / forward_sum)\n",
    "        backward_sample = np.array(samples.loc[:, mut_kmer, cent_nucl] / backward_sum)\n",
    "        pvalues.append(mannwhitneyu(forward_sample, backward_sample).pvalue)"
   ]
  },
  {
   "cell_type": "code",
   "execution_count": 207,
   "metadata": {
    "collapsed": false
   },
   "outputs": [
    {
     "data": {
      "text/plain": [
       "456"
      ]
     },
     "execution_count": 207,
     "metadata": {},
     "output_type": "execute_result"
    }
   ],
   "source": [
    "len(pvalues)"
   ]
  },
  {
   "cell_type": "code",
   "execution_count": 208,
   "metadata": {
    "collapsed": false
   },
   "outputs": [
    {
     "data": {
      "text/plain": [
       "0.59210526315789469"
      ]
     },
     "execution_count": 208,
     "metadata": {},
     "output_type": "execute_result"
    }
   ],
   "source": [
    "sign_level = 0.05\n",
    "np.mean(np.array(pvalues) < sign_level / len(pvalues))"
   ]
  },
  {
   "cell_type": "code",
   "execution_count": null,
   "metadata": {
    "collapsed": true
   },
   "outputs": [],
   "source": []
  }
 ],
 "metadata": {
  "kernelspec": {
   "display_name": "Python 2",
   "language": "python",
   "name": "python2"
  },
  "language_info": {
   "codemirror_mode": {
    "name": "ipython",
    "version": 2
   },
   "file_extension": ".py",
   "mimetype": "text/x-python",
   "name": "python",
   "nbconvert_exporter": "python",
   "pygments_lexer": "ipython2",
   "version": "2.7.12"
  }
 },
 "nbformat": 4,
 "nbformat_minor": 0
}
