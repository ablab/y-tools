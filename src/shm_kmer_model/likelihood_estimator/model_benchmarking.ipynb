{
 "cells": [
  {
   "cell_type": "markdown",
   "metadata": {},
   "source": [
    "# Tree direction test"
   ]
  },
  {
   "cell_type": "code",
   "execution_count": 1,
   "metadata": {
    "collapsed": true
   },
   "outputs": [],
   "source": [
    "import pandas as pd\n",
    "import numpy as np"
   ]
  },
  {
   "cell_type": "code",
   "execution_count": 2,
   "metadata": {
    "collapsed": true
   },
   "outputs": [],
   "source": [
    "import shm_kmer_model.shm_kmer_model as shm_kmer_model"
   ]
  },
  {
   "cell_type": "code",
   "execution_count": 3,
   "metadata": {
    "collapsed": true
   },
   "outputs": [],
   "source": [
    "yale_model = shm_kmer_model.YaleSHM_Model()"
   ]
  },
  {
   "cell_type": "code",
   "execution_count": 4,
   "metadata": {
    "collapsed": false
   },
   "outputs": [
    {
     "name": "stdout",
     "output_type": "stream",
     "text": [
      "NoKNeighbours: IGH\n",
      "NoKNeighbours: IGH\n"
     ]
    },
    {
     "name": "stderr",
     "output_type": "stream",
     "text": [
      "/Users/andrewbzikadze/anaconda/envs/python2.7/lib/python2.7/site-packages/numpy/core/_methods.py:59: RuntimeWarning: Mean of empty slice.\n",
      "  warnings.warn(\"Mean of empty slice.\", RuntimeWarning)\n",
      "/Users/andrewbzikadze/anaconda/envs/python2.7/lib/python2.7/site-packages/numpy/core/_methods.py:59: RuntimeWarning: Mean of empty slice.\n",
      "  warnings.warn(\"Mean of empty slice.\", RuntimeWarning)\n"
     ]
    },
    {
     "name": "stdout",
     "output_type": "stream",
     "text": [
      "Trivial: IGH\n",
      "Trivial: IGH\n"
     ]
    }
   ],
   "source": [
    "from sample_reader.sample_reader import SampleReader\n",
    "samples_fv = SampleReader().read('AbVitro/flu_time_course/FV/', ['25'])\n",
    "samples_gmc = SampleReader().read('AbVitro/flu_time_course/GMC/', ['8'])\n",
    "samples_ido = SampleReader().read('AbVitro/flu_time_course/IDO/')\n",
    "samples_age = SampleReader().read('age/')\n",
    "samples_paired = SampleReader().read('AbVitro/paired/')\n",
    "from shm_kmer_model_estimator.shm_kmer_model_estimator import ShmKmerModelEstimator\n",
    "estimator = ShmKmerModelEstimator()\n",
    "est_model = estimator.estimate_models_of_one_type((samples_age,\n",
    "                                                   samples_ido,\n",
    "                                                   samples_fv,\n",
    "                                                   samples_gmc,\n",
    "                                                   samples_paired\n",
    "                                                  ),\n",
    "                                                  chains=['IGH'])"
   ]
  },
  {
   "cell_type": "code",
   "execution_count": 6,
   "metadata": {
    "collapsed": false
   },
   "outputs": [],
   "source": [
    "import tree_test_utilities.tree_test_utilities as tree_test_utilities"
   ]
  },
  {
   "cell_type": "code",
   "execution_count": 7,
   "metadata": {
    "collapsed": false
   },
   "outputs": [],
   "source": [
    "tester = tree_test_utilities.TreeTester(minimal_size_filtered_tree=30)"
   ]
  },
  {
   "cell_type": "code",
   "execution_count": 46,
   "metadata": {
    "collapsed": false
   },
   "outputs": [
    {
     "data": {
      "text/plain": [
       "0.44444444444444442"
      ]
     },
     "execution_count": 46,
     "metadata": {},
     "output_type": "execute_result"
    },
    {
     "data": {
      "text/plain": [
       "0.44444444444444442"
      ]
     },
     "execution_count": 46,
     "metadata": {},
     "output_type": "execute_result"
    }
   ],
   "source": [
    "result = tester.get_consistency_statistics(yale_model, mismatch_strategy='NoKNeighbours',\n",
    "    tree_path='tree_test_utilities/raji_compressed/clonal_trees/clonal_tree_2-0_Vsize_1431_Esize_1341.tree')\n",
    "np.mean(result)"
   ]
  },
  {
   "cell_type": "code",
   "execution_count": 47,
   "metadata": {
    "collapsed": false
   },
   "outputs": [
    {
     "data": {
      "text/plain": [
       "0.14285714285714285"
      ]
     },
     "execution_count": 47,
     "metadata": {},
     "output_type": "execute_result"
    },
    {
     "data": {
      "text/plain": [
       "0.14285714285714285"
      ]
     },
     "execution_count": 47,
     "metadata": {},
     "output_type": "execute_result"
    }
   ],
   "source": [
    "result = tester.get_consistency_statistics(est_model['NoKNeighbours']['IGH'], mismatch_strategy='NoKNeighbours',\n",
    "    tree_path='tree_test_utilities/raji_compressed/clonal_trees/clonal_tree_2-0_Vsize_1431_Esize_1341.tree')\n",
    "np.mean(result)"
   ]
  },
  {
   "cell_type": "code",
   "execution_count": 10,
   "metadata": {
    "collapsed": false
   },
   "outputs": [],
   "source": [
    "from special_utils.cd_manager import cd\n",
    "from special_utils.largest_files_in_dir import n_largest_files"
   ]
  },
  {
   "cell_type": "code",
   "execution_count": 11,
   "metadata": {
    "collapsed": false
   },
   "outputs": [],
   "source": [
    "def get_flu_trees_paths(n_largest_trees=5,\n",
    "                        common_prefix='/Users/andrewbzikadze/chihua/home/aslabodkin/trees/trees_res'):\n",
    "    flu_inds = ['IDO', 'FV', 'GMC']\n",
    "    import os, re\n",
    "    paths = []\n",
    "    for flu_ind in flu_inds:\n",
    "        ind_prefix = os.path.join(common_prefix, flu_ind)\n",
    "        with cd(ind_prefix):\n",
    "            dir_list = filter(os.path.isdir, os.listdir(ind_prefix))\n",
    "            dir_list = filter(lambda x: re.match(r'.*_heavy', x), dir_list)\n",
    "            for dir_id in dir_list:\n",
    "                dataset_prefix = os.path.join(os.getcwd(), dir_id, 'clonal_trees')\n",
    "                paths += n_largest_files(dataset_prefix, n_largest_trees)\n",
    "    return paths"
   ]
  },
  {
   "cell_type": "code",
   "execution_count": 12,
   "metadata": {
    "collapsed": false
   },
   "outputs": [],
   "source": [
    "flu_trees_paths = get_flu_trees_paths(7)"
   ]
  },
  {
   "cell_type": "code",
   "execution_count": 13,
   "metadata": {
    "collapsed": false
   },
   "outputs": [],
   "source": [
    "results = dict.fromkeys(['Yale', 'CAB_NoKNeighbours', 'CAB_Trivial'])\n",
    "for key in results:\n",
    "    results[key] = {'Trivial': np.array([]), 'NoKNeighbours': np.array([])}\n",
    "for flu_tree_path in flu_trees_paths:\n",
    "    for strategy in ['Trivial', 'NoKNeighbours']:\n",
    "        results['Yale'][strategy] =\\\n",
    "        np.append(results['Yale'][strategy],\n",
    "                  [np.mean(tester.get_consistency_statistics(yale_model,\n",
    "                                                            mismatch_strategy=strategy,\n",
    "                                                            tree_path=flu_tree_path))])\n",
    "        results['CAB_NoKNeighbours'][strategy] =\\\n",
    "        np.append(results['CAB_NoKNeighbours'][strategy],\n",
    "                  [np.mean(tester.get_consistency_statistics(est_model['NoKNeighbours']['IGH'],\n",
    "                                                            mismatch_strategy=strategy,\n",
    "                                                            tree_path=flu_tree_path))])\n",
    "        results['CAB_Trivial'][strategy] =\\\n",
    "        np.append(results['CAB_Trivial'][strategy],\n",
    "                  [np.mean(tester.get_consistency_statistics(est_model['Trivial']['IGH'],\n",
    "                                                             mismatch_strategy=strategy,\n",
    "                                                             tree_path=flu_tree_path))])"
   ]
  },
  {
   "cell_type": "code",
   "execution_count": 14,
   "metadata": {
    "collapsed": false
   },
   "outputs": [
    {
     "name": "stdout",
     "output_type": "stream",
     "text": [
      "Populating the interactive namespace from numpy and matplotlib\n",
      "Populating the interactive namespace from numpy and matplotlib\n"
     ]
    }
   ],
   "source": [
    "import seaborn as sns\n",
    "%pylab inline"
   ]
  },
  {
   "cell_type": "code",
   "execution_count": 21,
   "metadata": {
    "collapsed": false
   },
   "outputs": [
    {
     "data": {
      "text/plain": [
       "<matplotlib.axes._subplots.AxesSubplot at 0x1137e8c50>"
      ]
     },
     "execution_count": 21,
     "metadata": {},
     "output_type": "execute_result"
    },
    {
     "data": {
      "text/plain": [
       "<matplotlib.axes._subplots.AxesSubplot at 0x1137e8c50>"
      ]
     },
     "execution_count": 21,
     "metadata": {},
     "output_type": "execute_result"
    },
    {
     "data": {
      "image/png": "[encoded data removed]",
      "text/plain": [
       "<matplotlib.figure.Figure at 0x113e9cc90>"
      ]
     },
     "metadata": {},
     "output_type": "display_data"
    },
    {
     "data": {
      "image/png": "[encoded data removed]",
      "text/plain": [
       "<matplotlib.figure.Figure at 0x113e9cc90>"
      ]
     },
     "metadata": {},
     "output_type": "display_data"
    }
   ],
   "source": [
    "draw_distplot = (lambda x: sns.distplot(x[~np.isnan(x)], bins=5, rug=True, kde=False))\n",
    "draw_distplot(results['Yale']['NoKNeighbours'])\n",
    "draw_distplot(results['CAB_NoKNeighbours']['Trivial'])\n"
   ]
  },
  {
   "cell_type": "code",
   "execution_count": 16,
   "metadata": {
    "collapsed": false
   },
   "outputs": [
    {
     "data": {
      "text/plain": [
       "0.40322580645161288"
      ]
     },
     "execution_count": 16,
     "metadata": {},
     "output_type": "execute_result"
    },
    {
     "data": {
      "text/plain": [
       "0.40322580645161288"
      ]
     },
     "execution_count": 16,
     "metadata": {},
     "output_type": "execute_result"
    }
   ],
   "source": [
    "np.nanmedian(results['Yale']['NoKNeighbours'])"
   ]
  },
  {
   "cell_type": "code",
   "execution_count": 17,
   "metadata": {
    "collapsed": false
   },
   "outputs": [
    {
     "data": {
      "text/plain": [
       "0.26829268292682928"
      ]
     },
     "execution_count": 17,
     "metadata": {},
     "output_type": "execute_result"
    },
    {
     "data": {
      "text/plain": [
       "0.26829268292682928"
      ]
     },
     "execution_count": 17,
     "metadata": {},
     "output_type": "execute_result"
    }
   ],
   "source": [
    "np.nanmedian(results['CAB_NoKNeighbours']['Trivial'])"
   ]
  },
  {
   "cell_type": "code",
   "execution_count": 18,
   "metadata": {
    "collapsed": false
   },
   "outputs": [
    {
     "data": {
      "text/plain": [
       "0.28125"
      ]
     },
     "execution_count": 18,
     "metadata": {},
     "output_type": "execute_result"
    },
    {
     "data": {
      "text/plain": [
       "0.28125"
      ]
     },
     "execution_count": 18,
     "metadata": {},
     "output_type": "execute_result"
    }
   ],
   "source": [
    "np.nanmedian(results['CAB_NoKNeighbours']['NoKNeighbours'])"
   ]
  },
  {
   "cell_type": "code",
   "execution_count": 19,
   "metadata": {
    "collapsed": false
   },
   "outputs": [
    {
     "data": {
      "text/plain": [
       "0.34375"
      ]
     },
     "execution_count": 19,
     "metadata": {},
     "output_type": "execute_result"
    },
    {
     "data": {
      "text/plain": [
       "0.34375"
      ]
     },
     "execution_count": 19,
     "metadata": {},
     "output_type": "execute_result"
    }
   ],
   "source": [
    "np.nanmedian(results['CAB_Trivial']['NoKNeighbours'])"
   ]
  },
  {
   "cell_type": "code",
   "execution_count": 20,
   "metadata": {
    "collapsed": false
   },
   "outputs": [
    {
     "data": {
      "text/plain": [
       "0.34210526315789475"
      ]
     },
     "execution_count": 20,
     "metadata": {},
     "output_type": "execute_result"
    },
    {
     "data": {
      "text/plain": [
       "0.34210526315789475"
      ]
     },
     "execution_count": 20,
     "metadata": {},
     "output_type": "execute_result"
    }
   ],
   "source": [
    "np.nanmedian(results['CAB_Trivial']['Trivial'])"
   ]
  },
  {
   "cell_type": "code",
   "execution_count": null,
   "metadata": {
    "collapsed": true
   },
   "outputs": [],
   "source": []
  }
 ],
 "metadata": {
  "kernelspec": {
   "display_name": "Python 2",
   "language": "python",
   "name": "python2"
  },
  "language_info": {
   "codemirror_mode": {
    "name": "ipython",
    "version": 2
   },
   "file_extension": ".py",
   "mimetype": "text/x-python",
   "name": "python",
   "nbconvert_exporter": "python",
   "pygments_lexer": "ipython2",
   "version": "2.7.11"
  }
 },
 "nbformat": 4,
 "nbformat_minor": 0
}
