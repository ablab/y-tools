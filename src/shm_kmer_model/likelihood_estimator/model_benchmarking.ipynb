{
 "cells": [
  {
   "cell_type": "markdown",
   "metadata": {},
   "source": [
    "# Tree direction test"
   ]
  },
  {
   "cell_type": "code",
   "execution_count": 1,
   "metadata": {
    "collapsed": true
   },
   "outputs": [],
   "source": [
    "import pandas as pd\n",
    "import numpy as np"
   ]
  },
  {
   "cell_type": "code",
   "execution_count": 2,
   "metadata": {
    "collapsed": false
   },
   "outputs": [
    {
     "data": {
      "text/html": [
       "<div>\n",
       "<table border=\"1\" class=\"dataframe\">\n",
       "  <thead>\n",
       "    <tr style=\"text-align: right;\">\n",
       "      <th></th>\n",
       "      <th>Src_id</th>\n",
       "      <th>Dst_id</th>\n",
       "      <th>Src_clone</th>\n",
       "      <th>Dst_clone</th>\n",
       "      <th>Num_Src_SHMs</th>\n",
       "      <th>Num_Dst_SHMs</th>\n",
       "      <th>Edge_type</th>\n",
       "      <th>Num_shared_SHMs</th>\n",
       "      <th>Num_added_SHMs</th>\n",
       "      <th>CDR3_dist</th>\n",
       "      <th>Weight</th>\n",
       "      <th>Src_productive</th>\n",
       "      <th>Dst_productive</th>\n",
       "      <th>Synonymous</th>\n",
       "      <th>Src_CDR3</th>\n",
       "      <th>Dst_CDR3</th>\n",
       "    </tr>\n",
       "  </thead>\n",
       "  <tbody>\n",
       "    <tr>\n",
       "      <th>0</th>\n",
       "      <td>8</td>\n",
       "      <td>114</td>\n",
       "      <td>MIG_UMI:TAAGGAGGGTAG:192___size___2</td>\n",
       "      <td>MIG_UMI:TGACTCCAACAG:171___size___1</td>\n",
       "      <td>38</td>\n",
       "      <td>41</td>\n",
       "      <td>directed</td>\n",
       "      <td>38</td>\n",
       "      <td>3</td>\n",
       "      <td>0</td>\n",
       "      <td>3</td>\n",
       "      <td>1</td>\n",
       "      <td>1</td>\n",
       "      <td>0</td>\n",
       "      <td>GCGAGACAGAGGAATGATTTCTCTGATAATAATAGTTATTACTCTA...</td>\n",
       "      <td>GCGAGACAGAGGAATGATTTCTCTGATAATAATAGTTATTACTCTA...</td>\n",
       "    </tr>\n",
       "    <tr>\n",
       "      <th>1</th>\n",
       "      <td>41</td>\n",
       "      <td>1414</td>\n",
       "      <td>MIG_UMI:AACCACAAGAAT:148___size___1</td>\n",
       "      <td>MIG_UMI:CTCCAAGGAGCA:149___size___1</td>\n",
       "      <td>37</td>\n",
       "      <td>38</td>\n",
       "      <td>directed</td>\n",
       "      <td>37</td>\n",
       "      <td>1</td>\n",
       "      <td>0</td>\n",
       "      <td>1</td>\n",
       "      <td>1</td>\n",
       "      <td>1</td>\n",
       "      <td>0</td>\n",
       "      <td>GCGAGACAGAGGAATGATTTCTCTGATAATAATACTTATTACTCTA...</td>\n",
       "      <td>GCGAGACAGAGGAATGATTTCTCTGATAATAATACTTATTACTCTA...</td>\n",
       "    </tr>\n",
       "    <tr>\n",
       "      <th>2</th>\n",
       "      <td>278</td>\n",
       "      <td>847</td>\n",
       "      <td>MIG_UMI:GAACACCAAGCG:53___size___2</td>\n",
       "      <td>MIG_UMI:ACTGCGAAAAGT:31___size___1</td>\n",
       "      <td>36</td>\n",
       "      <td>39</td>\n",
       "      <td>directed</td>\n",
       "      <td>36</td>\n",
       "      <td>3</td>\n",
       "      <td>1</td>\n",
       "      <td>4</td>\n",
       "      <td>1</td>\n",
       "      <td>1</td>\n",
       "      <td>0</td>\n",
       "      <td>GCGAGACAGAGGAATGATTTCTCTGATAATAATAGTTATTACTCTA...</td>\n",
       "      <td>GCGAGACAGAGCAATGATTTCTCTGATAATAATAGTTATTACTCTA...</td>\n",
       "    </tr>\n",
       "    <tr>\n",
       "      <th>3</th>\n",
       "      <td>2</td>\n",
       "      <td>916</td>\n",
       "      <td>MIG_UMI:GGATTGGGGCTA:181___size___1</td>\n",
       "      <td>MIG_UMI:GCAGGTTTGATA:189___size___2</td>\n",
       "      <td>36</td>\n",
       "      <td>38</td>\n",
       "      <td>directed</td>\n",
       "      <td>36</td>\n",
       "      <td>2</td>\n",
       "      <td>0</td>\n",
       "      <td>2</td>\n",
       "      <td>1</td>\n",
       "      <td>1</td>\n",
       "      <td>1</td>\n",
       "      <td>GCGAGACAGAGGAATGATTTCTCTGATAATAATAGTTATTACTCTA...</td>\n",
       "      <td>GCGAGACAGAGGAATGATTTCTCTGATAATAATAGTTATTACTCTA...</td>\n",
       "    </tr>\n",
       "    <tr>\n",
       "      <th>4</th>\n",
       "      <td>206</td>\n",
       "      <td>495</td>\n",
       "      <td>MIG_UMI:ACGATCCAGCTC:172___size___1</td>\n",
       "      <td>MIG_UMI:CAAGAAGTGGGA:166___size___1</td>\n",
       "      <td>36</td>\n",
       "      <td>37</td>\n",
       "      <td>directed</td>\n",
       "      <td>36</td>\n",
       "      <td>1</td>\n",
       "      <td>1</td>\n",
       "      <td>2</td>\n",
       "      <td>1</td>\n",
       "      <td>1</td>\n",
       "      <td>0</td>\n",
       "      <td>GCGAGACAGAGGAATGATTTCTCTGATAATAATAGTTATTACTCTA...</td>\n",
       "      <td>GCGAGACAGAGGAATGATTTCTCTGATAATAATAATTATTACTCTA...</td>\n",
       "    </tr>\n",
       "  </tbody>\n",
       "</table>\n",
       "</div>"
      ],
      "text/plain": [
       "   Src_id  Dst_id                            Src_clone  \\\n",
       "0       8     114  MIG_UMI:TAAGGAGGGTAG:192___size___2   \n",
       "1      41    1414  MIG_UMI:AACCACAAGAAT:148___size___1   \n",
       "2     278     847   MIG_UMI:GAACACCAAGCG:53___size___2   \n",
       "3       2     916  MIG_UMI:GGATTGGGGCTA:181___size___1   \n",
       "4     206     495  MIG_UMI:ACGATCCAGCTC:172___size___1   \n",
       "\n",
       "                             Dst_clone  Num_Src_SHMs  Num_Dst_SHMs Edge_type  \\\n",
       "0  MIG_UMI:TGACTCCAACAG:171___size___1            38            41  directed   \n",
       "1  MIG_UMI:CTCCAAGGAGCA:149___size___1            37            38  directed   \n",
       "2   MIG_UMI:ACTGCGAAAAGT:31___size___1            36            39  directed   \n",
       "3  MIG_UMI:GCAGGTTTGATA:189___size___2            36            38  directed   \n",
       "4  MIG_UMI:CAAGAAGTGGGA:166___size___1            36            37  directed   \n",
       "\n",
       "   Num_shared_SHMs  Num_added_SHMs  CDR3_dist  Weight  Src_productive  \\\n",
       "0               38               3          0       3               1   \n",
       "1               37               1          0       1               1   \n",
       "2               36               3          1       4               1   \n",
       "3               36               2          0       2               1   \n",
       "4               36               1          1       2               1   \n",
       "\n",
       "   Dst_productive  Synonymous  \\\n",
       "0               1           0   \n",
       "1               1           0   \n",
       "2               1           0   \n",
       "3               1           1   \n",
       "4               1           0   \n",
       "\n",
       "                                            Src_CDR3  \\\n",
       "0  GCGAGACAGAGGAATGATTTCTCTGATAATAATAGTTATTACTCTA...   \n",
       "1  GCGAGACAGAGGAATGATTTCTCTGATAATAATACTTATTACTCTA...   \n",
       "2  GCGAGACAGAGGAATGATTTCTCTGATAATAATAGTTATTACTCTA...   \n",
       "3  GCGAGACAGAGGAATGATTTCTCTGATAATAATAGTTATTACTCTA...   \n",
       "4  GCGAGACAGAGGAATGATTTCTCTGATAATAATAGTTATTACTCTA...   \n",
       "\n",
       "                                            Dst_CDR3  \n",
       "0  GCGAGACAGAGGAATGATTTCTCTGATAATAATAGTTATTACTCTA...  \n",
       "1  GCGAGACAGAGGAATGATTTCTCTGATAATAATACTTATTACTCTA...  \n",
       "2  GCGAGACAGAGCAATGATTTCTCTGATAATAATAGTTATTACTCTA...  \n",
       "3  GCGAGACAGAGGAATGATTTCTCTGATAATAATAGTTATTACTCTA...  \n",
       "4  GCGAGACAGAGGAATGATTTCTCTGATAATAATAATTATTACTCTA...  "
      ]
     },
     "execution_count": 2,
     "metadata": {},
     "output_type": "execute_result"
    }
   ],
   "source": [
    "tree = pd.read_csv('tree_test_utilities/raji_compressed/clonal_trees/clonal_tree_2-0_Vsize_1431_Esize_1341.tree',\n",
    "                   sep='\\t')\n",
    "tree.head()"
   ]
  },
  {
   "cell_type": "code",
   "execution_count": 3,
   "metadata": {
    "collapsed": false
   },
   "outputs": [
    {
     "data": {
      "text/html": [
       "<div>\n",
       "<table border=\"1\" class=\"dataframe\">\n",
       "  <thead>\n",
       "    <tr style=\"text-align: right;\">\n",
       "      <th></th>\n",
       "      <th>Src_id</th>\n",
       "      <th>Dst_id</th>\n",
       "      <th>Src_clone</th>\n",
       "      <th>Dst_clone</th>\n",
       "      <th>Num_Src_SHMs</th>\n",
       "      <th>Num_Dst_SHMs</th>\n",
       "      <th>Edge_type</th>\n",
       "      <th>Num_shared_SHMs</th>\n",
       "      <th>Num_added_SHMs</th>\n",
       "      <th>CDR3_dist</th>\n",
       "      <th>Weight</th>\n",
       "      <th>Src_productive</th>\n",
       "      <th>Dst_productive</th>\n",
       "      <th>Synonymous</th>\n",
       "      <th>Src_CDR3</th>\n",
       "      <th>Dst_CDR3</th>\n",
       "    </tr>\n",
       "  </thead>\n",
       "  <tbody>\n",
       "    <tr>\n",
       "      <th>0</th>\n",
       "      <td>8</td>\n",
       "      <td>114</td>\n",
       "      <td>MIG_UMI:TAAGGAGGGTAG:192___size___2</td>\n",
       "      <td>MIG_UMI:TGACTCCAACAG:171___size___1</td>\n",
       "      <td>38</td>\n",
       "      <td>41</td>\n",
       "      <td>directed</td>\n",
       "      <td>38</td>\n",
       "      <td>3</td>\n",
       "      <td>0</td>\n",
       "      <td>3</td>\n",
       "      <td>1</td>\n",
       "      <td>1</td>\n",
       "      <td>0</td>\n",
       "      <td>GCGAGACAGAGGAATGATTTCTCTGATAATAATAGTTATTACTCTA...</td>\n",
       "      <td>GCGAGACAGAGGAATGATTTCTCTGATAATAATAGTTATTACTCTA...</td>\n",
       "    </tr>\n",
       "    <tr>\n",
       "      <th>1</th>\n",
       "      <td>41</td>\n",
       "      <td>1414</td>\n",
       "      <td>MIG_UMI:AACCACAAGAAT:148___size___1</td>\n",
       "      <td>MIG_UMI:CTCCAAGGAGCA:149___size___1</td>\n",
       "      <td>37</td>\n",
       "      <td>38</td>\n",
       "      <td>directed</td>\n",
       "      <td>37</td>\n",
       "      <td>1</td>\n",
       "      <td>0</td>\n",
       "      <td>1</td>\n",
       "      <td>1</td>\n",
       "      <td>1</td>\n",
       "      <td>0</td>\n",
       "      <td>GCGAGACAGAGGAATGATTTCTCTGATAATAATACTTATTACTCTA...</td>\n",
       "      <td>GCGAGACAGAGGAATGATTTCTCTGATAATAATACTTATTACTCTA...</td>\n",
       "    </tr>\n",
       "    <tr>\n",
       "      <th>2</th>\n",
       "      <td>278</td>\n",
       "      <td>847</td>\n",
       "      <td>MIG_UMI:GAACACCAAGCG:53___size___2</td>\n",
       "      <td>MIG_UMI:ACTGCGAAAAGT:31___size___1</td>\n",
       "      <td>36</td>\n",
       "      <td>39</td>\n",
       "      <td>directed</td>\n",
       "      <td>36</td>\n",
       "      <td>3</td>\n",
       "      <td>1</td>\n",
       "      <td>4</td>\n",
       "      <td>1</td>\n",
       "      <td>1</td>\n",
       "      <td>0</td>\n",
       "      <td>GCGAGACAGAGGAATGATTTCTCTGATAATAATAGTTATTACTCTA...</td>\n",
       "      <td>GCGAGACAGAGCAATGATTTCTCTGATAATAATAGTTATTACTCTA...</td>\n",
       "    </tr>\n",
       "    <tr>\n",
       "      <th>3</th>\n",
       "      <td>2</td>\n",
       "      <td>916</td>\n",
       "      <td>MIG_UMI:GGATTGGGGCTA:181___size___1</td>\n",
       "      <td>MIG_UMI:GCAGGTTTGATA:189___size___2</td>\n",
       "      <td>36</td>\n",
       "      <td>38</td>\n",
       "      <td>directed</td>\n",
       "      <td>36</td>\n",
       "      <td>2</td>\n",
       "      <td>0</td>\n",
       "      <td>2</td>\n",
       "      <td>1</td>\n",
       "      <td>1</td>\n",
       "      <td>1</td>\n",
       "      <td>GCGAGACAGAGGAATGATTTCTCTGATAATAATAGTTATTACTCTA...</td>\n",
       "      <td>GCGAGACAGAGGAATGATTTCTCTGATAATAATAGTTATTACTCTA...</td>\n",
       "    </tr>\n",
       "    <tr>\n",
       "      <th>4</th>\n",
       "      <td>206</td>\n",
       "      <td>495</td>\n",
       "      <td>MIG_UMI:ACGATCCAGCTC:172___size___1</td>\n",
       "      <td>MIG_UMI:CAAGAAGTGGGA:166___size___1</td>\n",
       "      <td>36</td>\n",
       "      <td>37</td>\n",
       "      <td>directed</td>\n",
       "      <td>36</td>\n",
       "      <td>1</td>\n",
       "      <td>1</td>\n",
       "      <td>2</td>\n",
       "      <td>1</td>\n",
       "      <td>1</td>\n",
       "      <td>0</td>\n",
       "      <td>GCGAGACAGAGGAATGATTTCTCTGATAATAATAGTTATTACTCTA...</td>\n",
       "      <td>GCGAGACAGAGGAATGATTTCTCTGATAATAATAATTATTACTCTA...</td>\n",
       "    </tr>\n",
       "  </tbody>\n",
       "</table>\n",
       "</div>"
      ],
      "text/plain": [
       "   Src_id  Dst_id                            Src_clone  \\\n",
       "0       8     114  MIG_UMI:TAAGGAGGGTAG:192___size___2   \n",
       "1      41    1414  MIG_UMI:AACCACAAGAAT:148___size___1   \n",
       "2     278     847   MIG_UMI:GAACACCAAGCG:53___size___2   \n",
       "3       2     916  MIG_UMI:GGATTGGGGCTA:181___size___1   \n",
       "4     206     495  MIG_UMI:ACGATCCAGCTC:172___size___1   \n",
       "\n",
       "                             Dst_clone  Num_Src_SHMs  Num_Dst_SHMs Edge_type  \\\n",
       "0  MIG_UMI:TGACTCCAACAG:171___size___1            38            41  directed   \n",
       "1  MIG_UMI:CTCCAAGGAGCA:149___size___1            37            38  directed   \n",
       "2   MIG_UMI:ACTGCGAAAAGT:31___size___1            36            39  directed   \n",
       "3  MIG_UMI:GCAGGTTTGATA:189___size___2            36            38  directed   \n",
       "4  MIG_UMI:CAAGAAGTGGGA:166___size___1            36            37  directed   \n",
       "\n",
       "   Num_shared_SHMs  Num_added_SHMs  CDR3_dist  Weight  Src_productive  \\\n",
       "0               38               3          0       3               1   \n",
       "1               37               1          0       1               1   \n",
       "2               36               3          1       4               1   \n",
       "3               36               2          0       2               1   \n",
       "4               36               1          1       2               1   \n",
       "\n",
       "   Dst_productive  Synonymous  \\\n",
       "0               1           0   \n",
       "1               1           0   \n",
       "2               1           0   \n",
       "3               1           1   \n",
       "4               1           0   \n",
       "\n",
       "                                            Src_CDR3  \\\n",
       "0  GCGAGACAGAGGAATGATTTCTCTGATAATAATAGTTATTACTCTA...   \n",
       "1  GCGAGACAGAGGAATGATTTCTCTGATAATAATACTTATTACTCTA...   \n",
       "2  GCGAGACAGAGGAATGATTTCTCTGATAATAATAGTTATTACTCTA...   \n",
       "3  GCGAGACAGAGGAATGATTTCTCTGATAATAATAGTTATTACTCTA...   \n",
       "4  GCGAGACAGAGGAATGATTTCTCTGATAATAATAGTTATTACTCTA...   \n",
       "\n",
       "                                            Dst_CDR3  \n",
       "0  GCGAGACAGAGGAATGATTTCTCTGATAATAATAGTTATTACTCTA...  \n",
       "1  GCGAGACAGAGGAATGATTTCTCTGATAATAATACTTATTACTCTA...  \n",
       "2  GCGAGACAGAGCAATGATTTCTCTGATAATAATAGTTATTACTCTA...  \n",
       "3  GCGAGACAGAGGAATGATTTCTCTGATAATAATAGTTATTACTCTA...  \n",
       "4  GCGAGACAGAGGAATGATTTCTCTGATAATAATAATTATTACTCTA...  "
      ]
     },
     "execution_count": 3,
     "metadata": {},
     "output_type": "execute_result"
    }
   ],
   "source": [
    "tree = tree.loc[(tree.Edge_type == 'directed')]\n",
    "tree.set_index(np.arange(tree.shape[0]), inplace=True)\n",
    "tree.head()"
   ]
  },
  {
   "cell_type": "code",
   "execution_count": 4,
   "metadata": {
    "collapsed": true
   },
   "outputs": [],
   "source": [
    "import mismatch_finder.mismatch_finder as mismatch_finder"
   ]
  },
  {
   "cell_type": "code",
   "execution_count": 5,
   "metadata": {
    "collapsed": false
   },
   "outputs": [],
   "source": [
    "mf = mismatch_finder.NoKNeighboursMismatchFinder(5)"
   ]
  },
  {
   "cell_type": "code",
   "execution_count": 6,
   "metadata": {
    "collapsed": false
   },
   "outputs": [],
   "source": [
    "mismatch_positions = np.array([mf.find_mismatch_positions(seq1, seq2) \\\n",
    "                               for (seq1, seq2) in zip(tree.Src_CDR3, tree.Dst_CDR3)])"
   ]
  },
  {
   "cell_type": "code",
   "execution_count": 7,
   "metadata": {
    "collapsed": false
   },
   "outputs": [
    {
     "data": {
      "text/plain": [
       "(array([  2,   4,   5,   8,   9,  15,  17,  19,  22,  29,  33,  36,  38,\n",
       "         39,  41,  43,  47,  50,  71,  74,  86,  88, 207, 211, 328, 334,\n",
       "        341, 347, 351, 352, 353, 355, 358, 361, 364, 365, 368, 386, 387,\n",
       "        394, 395, 398, 400, 403, 407, 408, 409, 410, 412, 415, 416, 417,\n",
       "        420, 422, 425, 428, 434, 443, 447, 457, 459, 460, 461]),)"
      ]
     },
     "execution_count": 7,
     "metadata": {},
     "output_type": "execute_result"
    }
   ],
   "source": [
    "nonempty_mutations_ind = np.where(np.vectorize(np.size)(mismatch_positions))\n",
    "nonempty_mutations_ind"
   ]
  },
  {
   "cell_type": "code",
   "execution_count": 8,
   "metadata": {
    "collapsed": false
   },
   "outputs": [],
   "source": [
    "tree = tree.loc[nonempty_mutations_ind]"
   ]
  },
  {
   "cell_type": "code",
   "execution_count": 12,
   "metadata": {
    "collapsed": true
   },
   "outputs": [],
   "source": [
    "class LikelihoodCalculator(object):\n",
    "    def __init__(self, model, kmer_len=5, mismatch_finder=mismatch_finder.NoKNeighboursMismatchFinder(5)):\n",
    "        self.model = model\n",
    "        self.kmer_len = kmer_len\n",
    "        self.half_kmer_len = self.kmer_len // 2\n",
    "        self.mismatch_finder = mismatch_finder\n",
    "    \n",
    "    def calculate_likelihood(source, destination):\n",
    "        assert len(source) == len(destination)\n",
    "        mismatch_positions = self.mismatch_finder.find_mismatch_positions(source, destination)\n",
    "        likelihood = 1\n",
    "        for mismatch_position in mismatch_positions:\n",
    "            source_fivemer = source[mismatch_positions - self.half_kmer_len,\n",
    "                                    mismatch_positions + self.half_kmer_len + 1]\n",
    "            fivemer_params = model.loc[source_fivemer]\n",
    "            likelihood += np.log(fivemer_params[mutation_probability]) + \\\n",
    "                          np.log(fivemer_params[source[mismatch_positions]])\n",
    "        return likelihood"
   ]
  },
  {
   "cell_type": "code",
   "execution_count": 14,
   "metadata": {
    "collapsed": true
   },
   "outputs": [],
   "source": [
    "import shm_kmer_model.shm_kmer_model as shm_kmer_model"
   ]
  },
  {
   "cell_type": "code",
   "execution_count": null,
   "metadata": {
    "collapsed": true
   },
   "outputs": [],
   "source": []
  }
 ],
 "metadata": {
  "kernelspec": {
   "display_name": "Python 2",
   "language": "python",
   "name": "python2"
  },
  "language_info": {
   "codemirror_mode": {
    "name": "ipython",
    "version": 2
   },
   "file_extension": ".py",
   "mimetype": "text/x-python",
   "name": "python",
   "nbconvert_exporter": "python",
   "pygments_lexer": "ipython2",
   "version": "2.7.11"
  }
 },
 "nbformat": 4,
 "nbformat_minor": 0
}
