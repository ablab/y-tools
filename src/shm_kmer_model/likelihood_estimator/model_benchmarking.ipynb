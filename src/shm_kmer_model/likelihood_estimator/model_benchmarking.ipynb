{
 "cells": [
  {
   "cell_type": "markdown",
   "metadata": {},
   "source": [
    "# Tree direction test (Heavy)"
   ]
  },
  {
   "cell_type": "code",
   "execution_count": 1,
   "metadata": {
    "collapsed": true
   },
   "outputs": [],
   "source": [
    "import pandas as pd\n",
    "import numpy as np"
   ]
  },
  {
   "cell_type": "code",
   "execution_count": 2,
   "metadata": {
    "collapsed": false
   },
   "outputs": [
    {
     "name": "stdout",
     "output_type": "stream",
     "text": [
      "Populating the interactive namespace from numpy and matplotlib\n"
     ]
    }
   ],
   "source": [
    "import seaborn as sns\n",
    "%pylab inline"
   ]
  },
  {
   "cell_type": "code",
   "execution_count": 3,
   "metadata": {
    "collapsed": true
   },
   "outputs": [],
   "source": [
    "import tree_test_utilities.flu_trees_statistics_calculator as flu_trees_statistics_calculator\n",
    "import tree_test_utilities.tree_test_utilities as tree_test_utilities\n",
    "import likelihood_calculator.likelihood_calculator as likelihood_calculator\n",
    "import shm_kmer_model.shm_kmer_model as shm_kmer_model"
   ]
  },
  {
   "cell_type": "code",
   "execution_count": 4,
   "metadata": {
    "collapsed": false
   },
   "outputs": [],
   "source": [
    "flu_calc = flu_trees_statistics_calculator.FluTreesStatisticsCalculator()\n",
    "tester = tree_test_utilities.TreeTester(minimal_size_filtered_tree=15)"
   ]
  },
  {
   "cell_type": "code",
   "execution_count": 5,
   "metadata": {
    "collapsed": false
   },
   "outputs": [],
   "source": [
    "# mutability_results_igh   = flu_calc.get_flu_likelihood_statistics(tester, chain_type='IGH', model_mode=shm_kmer_model.ModelMode.Mutation)\n",
    "# substitution_results_igh = flu_calc.get_flu_likelihood_statistics(tester, chain_type='IGH', model_mode=shm_kmer_model.ModelMode.Substitution)\n",
    "mut_subst_results_igh    = flu_calc.get_flu_likelihood_statistics(tester, chain_type='IGH', model_mode=shm_kmer_model.ModelMode.Both)"
   ]
  },
  {
   "cell_type": "code",
   "execution_count": 6,
   "metadata": {
    "collapsed": false,
    "scrolled": true
   },
   "outputs": [
    {
     "name": "stdout",
     "output_type": "stream",
     "text": [
      "(-6.52284360656108, -6.404290161054302)\n"
     ]
    }
   ],
   "source": [
    "#print(mutability_results['Yale']['NoKNeighbours'][30][0])\n",
    "#print(substitution_results['Yale']['NoKNeighbours'][30][0])\n",
    "print(mut_subst_results_igh['Yale']['NoKNeighbours'][30][0])"
   ]
  },
  {
   "cell_type": "code",
   "execution_count": 7,
   "metadata": {
    "collapsed": false
   },
   "outputs": [
    {
     "data": {
      "text/plain": [
       "(-6.52284360656108, -6.404290161054302)"
      ]
     },
     "execution_count": 7,
     "metadata": {},
     "output_type": "execute_result"
    }
   ],
   "source": [
    "(-5.02709596677701, -5.133498545651392)\n",
    "(-1.49574763978407, -1.2707916154029102)\n",
    "(-6.52284360656108, -6.404290161054302)"
   ]
  },
  {
   "cell_type": "code",
   "execution_count": 8,
   "metadata": {
    "collapsed": false
   },
   "outputs": [],
   "source": [
    "accuracy    = np.vectorize(lambda x: x[0] < x[1])\n",
    "logloss     = np.vectorize(lambda x: x[0] - np.log(np.exp(x[0]) + np.exp(x[1])))\n",
    "reliability = np.vectorize(lambda x: np.exp(x[0] - x[1]))\n",
    "\n",
    "def apply_statistic_to_dataset(dataset, statistic, aggregate):\n",
    "    results = []\n",
    "    for tree in dataset:\n",
    "        if len(tree):\n",
    "            results.append(aggregate(statistic(tree)))\n",
    "    return np.array(results)\n",
    "\n",
    "def draw_classification_stats_distplot(x1, x2, bins=10):\n",
    "    draw_distplot = (lambda x: sns.distplot(x[~np.isnan(x)], bins=bins, rug=True, kde=True))\n",
    "    draw_distplot(x1)\n",
    "    draw_distplot(x2)"
   ]
  },
  {
   "cell_type": "code",
   "execution_count": 9,
   "metadata": {
    "collapsed": false
   },
   "outputs": [
    {
     "data": {
      "image/png": "[encoded data removed]",
      "text/plain": [
       "<matplotlib.figure.Figure at 0x116a488d0>"
      ]
     },
     "metadata": {},
     "output_type": "display_data"
    }
   ],
   "source": [
    "accuracy_yale = apply_statistic_to_dataset(mut_subst_results_igh['Yale']['Trivial'], accuracy, np.mean)\n",
    "accuracy_cab  = apply_statistic_to_dataset(mut_subst_results_igh['CAB_NoKNeighbours']['Trivial'], accuracy, np.mean)\n",
    "draw_classification_stats_distplot(accuracy_yale, accuracy_cab)"
   ]
  },
  {
   "cell_type": "code",
   "execution_count": 10,
   "metadata": {
    "collapsed": false
   },
   "outputs": [
    {
     "data": {
      "text/plain": [
       "MannwhitneyuResult(statistic=787.0, pvalue=0.040943059618458622)"
      ]
     },
     "execution_count": 10,
     "metadata": {},
     "output_type": "execute_result"
    }
   ],
   "source": [
    "import scipy as sp\n",
    "sp.stats.mannwhitneyu(accuracy_yale, accuracy_cab, use_continuity=True)"
   ]
  },
  {
   "cell_type": "code",
   "execution_count": 11,
   "metadata": {
    "collapsed": false
   },
   "outputs": [
    {
     "name": "stdout",
     "output_type": "stream",
     "text": [
      "(0.38461538461538464, 0.27777777777777779)\n",
      "(0.40091384252653522, 0.32470252664578819)\n"
     ]
    }
   ],
   "source": [
    "print(np.median(accuracy_yale), np.median(accuracy_cab))\n",
    "print(np.mean(accuracy_yale), np.mean(accuracy_cab))"
   ]
  },
  {
   "cell_type": "code",
   "execution_count": 12,
   "metadata": {
    "collapsed": false,
    "scrolled": true
   },
   "outputs": [
    {
     "data": {
      "text/plain": [
       "0.2899746192893401"
      ]
     },
     "execution_count": 12,
     "metadata": {},
     "output_type": "execute_result"
    }
   ],
   "source": [
    "x = apply_statistic_to_dataset(mut_subst_results_igh['CAB_NoKNeighbours']['Trivial'], accuracy, lambda x: x)\n",
    "np.mean(np.concatenate(x))"
   ]
  },
  {
   "cell_type": "code",
   "execution_count": 13,
   "metadata": {
    "collapsed": false
   },
   "outputs": [
    {
     "data": {
      "text/plain": [
       "0.4016497461928934"
      ]
     },
     "execution_count": 13,
     "metadata": {},
     "output_type": "execute_result"
    }
   ],
   "source": [
    "x = apply_statistic_to_dataset(mut_subst_results_igh['Yale']['Trivial'], accuracy, lambda x: x)\n",
    "np.mean(np.concatenate(x))"
   ]
  },
  {
   "cell_type": "code",
   "execution_count": 14,
   "metadata": {
    "collapsed": false,
    "scrolled": true
   },
   "outputs": [
    {
     "name": "stdout",
     "output_type": "stream",
     "text": [
      "-1201.13918617\n",
      "-931.115785915\n"
     ]
    },
    {
     "data": {
      "image/png": "[encoded data removed]",
      "text/plain": [
       "<matplotlib.figure.Figure at 0x1196c7a10>"
      ]
     },
     "metadata": {},
     "output_type": "display_data"
    }
   ],
   "source": [
    "logloss_yale = apply_statistic_to_dataset(mut_subst_results_igh['Yale']['Trivial'], logloss, np.sum)\n",
    "logloss_cab  = apply_statistic_to_dataset(mut_subst_results_igh['CAB_NoKNeighbours']['Trivial'], logloss, np.nansum)\n",
    "draw_classification_stats_distplot(logloss_yale, logloss_cab)\n",
    "print(np.sum(logloss_yale))\n",
    "print(np.sum(logloss_cab))"
   ]
  },
  {
   "cell_type": "code",
   "execution_count": 15,
   "metadata": {
    "collapsed": false,
    "scrolled": true
   },
   "outputs": [
    {
     "data": {
      "text/plain": [
       "MannwhitneyuResult(statistic=498.0, pvalue=0.18055292895708219)"
      ]
     },
     "execution_count": 15,
     "metadata": {},
     "output_type": "execute_result"
    }
   ],
   "source": [
    "sp.stats.mannwhitneyu(logloss_yale, logloss_cab, use_continuity=True)"
   ]
  },
  {
   "cell_type": "code",
   "execution_count": 16,
   "metadata": {
    "collapsed": false,
    "scrolled": true
   },
   "outputs": [
    {
     "data": {
      "image/png": "[encoded data removed]",
      "text/plain": [
       "<matplotlib.figure.Figure at 0x11912b290>"
      ]
     },
     "metadata": {},
     "output_type": "display_data"
    }
   ],
   "source": [
    "reliability_yale = apply_statistic_to_dataset(mut_subst_results_igh['Yale']['Trivial'], reliability, np.median)\n",
    "reliability_cab  = apply_statistic_to_dataset(mut_subst_results_igh['CAB_NoKNeighbours']['Trivial'], reliability, np.nanmedian)\n",
    "reliability_yale\n",
    "draw_classification_stats_distplot(reliability_yale, reliability_cab)"
   ]
  },
  {
   "cell_type": "code",
   "execution_count": 17,
   "metadata": {
    "collapsed": false
   },
   "outputs": [
    {
     "data": {
      "text/plain": [
       "MannwhitneyuResult(statistic=689.0, pvalue=0.37045025756825478)"
      ]
     },
     "execution_count": 17,
     "metadata": {},
     "output_type": "execute_result"
    }
   ],
   "source": [
    "sp.stats.mannwhitneyu(reliability_yale, reliability_cab, use_continuity=True)"
   ]
  },
  {
   "cell_type": "code",
   "execution_count": 18,
   "metadata": {
    "collapsed": false
   },
   "outputs": [
    {
     "data": {
      "text/plain": [
       "1.4504645824287379"
      ]
     },
     "execution_count": 18,
     "metadata": {},
     "output_type": "execute_result"
    }
   ],
   "source": [
    "np.median(reliability_yale)"
   ]
  },
  {
   "cell_type": "code",
   "execution_count": 19,
   "metadata": {
    "collapsed": false,
    "scrolled": true
   },
   "outputs": [
    {
     "data": {
      "text/plain": [
       "1.2527441537103976"
      ]
     },
     "execution_count": 19,
     "metadata": {},
     "output_type": "execute_result"
    }
   ],
   "source": [
    "np.median(reliability_cab)"
   ]
  },
  {
   "cell_type": "markdown",
   "metadata": {},
   "source": [
    "# Tree direction test (Kappa)"
   ]
  },
  {
   "cell_type": "code",
   "execution_count": 20,
   "metadata": {
    "collapsed": true
   },
   "outputs": [],
   "source": [
    "import shm_kmer_model_estimator.standard_model_estimations as standard_model_estimations"
   ]
  },
  {
   "cell_type": "code",
   "execution_count": 21,
   "metadata": {
    "collapsed": true
   },
   "outputs": [],
   "source": [
    "flu_calc = flu_trees_statistics_calculator.FluTreesStatisticsCalculator(\n",
    "    cab_model=standard_model_estimations.full_all_chains_model())"
   ]
  },
  {
   "cell_type": "code",
   "execution_count": 22,
   "metadata": {
    "collapsed": false
   },
   "outputs": [],
   "source": [
    "# mutability_results_igk   = flu_calc.get_flu_likelihood_statistics(tester, chain_type='IGK', model_mode=shm_kmer_model.ModelMode.Mutation)\n",
    "# substitution_results_igk = flu_calc.get_flu_likelihood_statistics(tester, chain_type='IGK', model_mode=shm_kmer_model.ModelMode.Substitution)\n",
    "mut_subst_results_igk    = flu_calc.get_flu_likelihood_statistics(tester, chain_type='IGK', model_mode=shm_kmer_model.ModelMode.Both)"
   ]
  },
  {
   "cell_type": "code",
   "execution_count": 30,
   "metadata": {
    "collapsed": false
   },
   "outputs": [
    {
     "data": {
      "image/png": "[encoded data removed]",
      "text/plain": [
       "<matplotlib.figure.Figure at 0x11afba950>"
      ]
     },
     "metadata": {},
     "output_type": "display_data"
    }
   ],
   "source": [
    "accuracy_yale = apply_statistic_to_dataset(mut_subst_results_igk['Yale']['Trivial'], accuracy, np.mean)\n",
    "accuracy_cab  = apply_statistic_to_dataset(mut_subst_results_igk['CAB_NoKNeighbours']['Trivial'], accuracy, np.mean)\n",
    "draw_classification_stats_distplot(accuracy_yale, accuracy_cab)"
   ]
  },
  {
   "cell_type": "code",
   "execution_count": 31,
   "metadata": {
    "collapsed": false
   },
   "outputs": [
    {
     "data": {
      "text/plain": [
       "MannwhitneyuResult(statistic=18034.0, pvalue=5.5088202621955011e-34)"
      ]
     },
     "execution_count": 31,
     "metadata": {},
     "output_type": "execute_result"
    }
   ],
   "source": [
    "sp.stats.mannwhitneyu(accuracy_yale, accuracy_cab, use_continuity=True)"
   ]
  },
  {
   "cell_type": "code",
   "execution_count": 29,
   "metadata": {
    "collapsed": false,
    "scrolled": true
   },
   "outputs": [
    {
     "name": "stdout",
     "output_type": "stream",
     "text": [
      "(0.26601930678017638, 0.14046144571710417)\n",
      "(0.28130417780312117, 0.1548435247216795)\n"
     ]
    }
   ],
   "source": [
    "print(np.median(accuracy_yale), np.median(accuracy_cab))\n",
    "print(np.mean(accuracy_yale), np.mean(accuracy_cab))"
   ]
  },
  {
   "cell_type": "code",
   "execution_count": 37,
   "metadata": {
    "collapsed": false,
    "scrolled": true
   },
   "outputs": [
    {
     "data": {
      "text/plain": [
       "0.15421472937000888"
      ]
     },
     "execution_count": 37,
     "metadata": {},
     "output_type": "execute_result"
    }
   ],
   "source": [
    "x = apply_statistic_to_dataset(mut_subst_results_igk['CAB_NoKNeighbours']['Trivial'], accuracy, lambda x: x)\n",
    "np.mean(np.concatenate(x))"
   ]
  },
  {
   "cell_type": "code",
   "execution_count": 38,
   "metadata": {
    "collapsed": false
   },
   "outputs": [
    {
     "data": {
      "text/plain": [
       "0.27537076942578276"
      ]
     },
     "execution_count": 38,
     "metadata": {},
     "output_type": "execute_result"
    }
   ],
   "source": [
    "x = apply_statistic_to_dataset(mut_subst_results_igk['Yale']['Trivial'], accuracy, lambda x: x)\n",
    "np.mean(np.concatenate(x))"
   ]
  },
  {
   "cell_type": "code",
   "execution_count": 24,
   "metadata": {
    "collapsed": false
   },
   "outputs": [
    {
     "name": "stdout",
     "output_type": "stream",
     "text": [
      "-25453.7625211\n",
      "-17353.2166438\n"
     ]
    },
    {
     "data": {
      "image/png": "[encoded data removed]",
      "text/plain": [
       "<matplotlib.figure.Figure at 0x11976cd90>"
      ]
     },
     "metadata": {},
     "output_type": "display_data"
    }
   ],
   "source": [
    "logloss_yale = apply_statistic_to_dataset(mut_subst_results_igk['Yale']['Trivial'], logloss, np.sum)\n",
    "logloss_cab  = apply_statistic_to_dataset(mut_subst_results_igk['CAB_NoKNeighbours']['Trivial'], logloss, np.nansum)\n",
    "draw_classification_stats_distplot(logloss_yale, logloss_cab)\n",
    "print(np.sum(logloss_yale))\n",
    "print(np.sum(logloss_cab))"
   ]
  },
  {
   "cell_type": "code",
   "execution_count": 32,
   "metadata": {
    "collapsed": false
   },
   "outputs": [
    {
     "data": {
      "text/plain": [
       "MannwhitneyuResult(statistic=6341.0, pvalue=3.3076447532196856e-07)"
      ]
     },
     "execution_count": 32,
     "metadata": {},
     "output_type": "execute_result"
    }
   ],
   "source": [
    "sp.stats.mannwhitneyu(logloss_yale, logloss_cab, use_continuity=True)"
   ]
  },
  {
   "cell_type": "markdown",
   "metadata": {},
   "source": [
    "# Tree direction test (Lambda)"
   ]
  },
  {
   "cell_type": "code",
   "execution_count": 25,
   "metadata": {
    "collapsed": false
   },
   "outputs": [],
   "source": [
    "# mutability_results_lambda   = flu_calc.get_flu_likelihood_statistics(tester, chain_type='IGL', model_mode=shm_kmer_model.ModelMode.Mutation)\n",
    "# substitution_results_lambda = flu_calc.get_flu_likelihood_statistics(tester, chain_type='IGL', model_mode=shm_kmer_model.ModelMode.Substitution)\n",
    "mut_subst_results_lambda    = flu_calc.get_flu_likelihood_statistics(tester, chain_type='IGL', model_mode=shm_kmer_model.ModelMode.Both)"
   ]
  },
  {
   "cell_type": "code",
   "execution_count": 33,
   "metadata": {
    "collapsed": false
   },
   "outputs": [
    {
     "data": {
      "image/png": "[encoded data removed]",
      "text/plain": [
       "<matplotlib.figure.Figure at 0x1199c9d10>"
      ]
     },
     "metadata": {},
     "output_type": "display_data"
    }
   ],
   "source": [
    "accuracy_yale = apply_statistic_to_dataset(mut_subst_results_lambda['Yale']['Trivial'], accuracy, np.mean)\n",
    "accuracy_cab  = apply_statistic_to_dataset(mut_subst_results_lambda['CAB_NoKNeighbours']['Trivial'], accuracy, np.mean)\n",
    "draw_classification_stats_distplot(accuracy_yale, accuracy_cab)"
   ]
  },
  {
   "cell_type": "code",
   "execution_count": 34,
   "metadata": {
    "collapsed": false
   },
   "outputs": [
    {
     "data": {
      "text/plain": [
       "MannwhitneyuResult(statistic=17141.0, pvalue=2.3448427166413966e-27)"
      ]
     },
     "execution_count": 34,
     "metadata": {},
     "output_type": "execute_result"
    }
   ],
   "source": [
    "sp.stats.mannwhitneyu(accuracy_yale, accuracy_cab, use_continuity=True)"
   ]
  },
  {
   "cell_type": "code",
   "execution_count": 35,
   "metadata": {
    "collapsed": false,
    "scrolled": true
   },
   "outputs": [
    {
     "name": "stdout",
     "output_type": "stream",
     "text": [
      "(0.35179526355996948, 0.23088169140800718)\n",
      "(0.35428306739076337, 0.23753169878571997)\n"
     ]
    }
   ],
   "source": [
    "print(np.median(accuracy_yale), np.median(accuracy_cab))\n",
    "print(np.mean(accuracy_yale), np.mean(accuracy_cab))"
   ]
  },
  {
   "cell_type": "code",
   "execution_count": 41,
   "metadata": {
    "collapsed": false,
    "scrolled": true
   },
   "outputs": [
    {
     "data": {
      "text/plain": [
       "0.23937205906214507"
      ]
     },
     "execution_count": 41,
     "metadata": {},
     "output_type": "execute_result"
    }
   ],
   "source": [
    "x = apply_statistic_to_dataset(mut_subst_results_lambda['CAB_NoKNeighbours']['Trivial'], accuracy, lambda x: x)\n",
    "np.mean(np.concatenate(x))"
   ]
  },
  {
   "cell_type": "code",
   "execution_count": 42,
   "metadata": {
    "collapsed": false
   },
   "outputs": [
    {
     "data": {
      "text/plain": [
       "0.35453512899561901"
      ]
     },
     "execution_count": 42,
     "metadata": {},
     "output_type": "execute_result"
    }
   ],
   "source": [
    "x = apply_statistic_to_dataset(mut_subst_results_lambda['Yale']['Trivial'], accuracy, lambda x: x)\n",
    "np.mean(np.concatenate(x))"
   ]
  },
  {
   "cell_type": "code",
   "execution_count": 27,
   "metadata": {
    "collapsed": false
   },
   "outputs": [
    {
     "name": "stdout",
     "output_type": "stream",
     "text": [
      "-17837.5674472\n",
      "-13108.0450309\n"
     ]
    },
    {
     "data": {
      "image/png": "[encoded data removed]",
      "text/plain": [
       "<matplotlib.figure.Figure at 0x11afba8d0>"
      ]
     },
     "metadata": {},
     "output_type": "display_data"
    }
   ],
   "source": [
    "logloss_yale = apply_statistic_to_dataset(mut_subst_results_lambda['Yale']['Trivial'], logloss, np.sum)\n",
    "logloss_cab  = apply_statistic_to_dataset(mut_subst_results_lambda['CAB_NoKNeighbours']['Trivial'], logloss, np.nansum)\n",
    "draw_classification_stats_distplot(logloss_yale, logloss_cab)\n",
    "print(np.sum(logloss_yale))\n",
    "print(np.sum(logloss_cab))"
   ]
  },
  {
   "cell_type": "code",
   "execution_count": 36,
   "metadata": {
    "collapsed": false
   },
   "outputs": [
    {
     "data": {
      "text/plain": [
       "MannwhitneyuResult(statistic=6341.0, pvalue=3.3076447532196856e-07)"
      ]
     },
     "execution_count": 36,
     "metadata": {},
     "output_type": "execute_result"
    }
   ],
   "source": [
    "sp.stats.mannwhitneyu(logloss_yale, logloss_cab, use_continuity=True)"
   ]
  },
  {
   "cell_type": "markdown",
   "metadata": {},
   "source": [
    "# Germline test (Leukemia, IGH)"
   ]
  },
  {
   "cell_type": "code",
   "execution_count": null,
   "metadata": {
    "collapsed": false,
    "scrolled": true
   },
   "outputs": [],
   "source": [
    "import germline_test_utilities.germline_test_utilities as germline_test_utilities\n",
    "import shm_kmer_model_estimator.standard_model_estimations as standard_model_estimations "
   ]
  },
  {
   "cell_type": "code",
   "execution_count": null,
   "metadata": {
    "collapsed": false
   },
   "outputs": [],
   "source": [
    "tester = germline_test_utilities.GermlineTester()\n",
    "cab_nokn_igh = standard_model_estimations.full_igh_model()\n",
    "cab_nokn_igh = cab_nokn_igh['NoKNeighbours']['IGH']\n",
    "yale_model = shm_kmer_model.YaleSHM_Model()"
   ]
  },
  {
   "cell_type": "code",
   "execution_count": null,
   "metadata": {
    "collapsed": false,
    "scrolled": false
   },
   "outputs": [],
   "source": [
    "cab_nokn_igh_lkhd = tester.get_likelihood_statistics(model=cab_nokn_igh)\n",
    "yale_lkhd         = tester.get_likelihood_statistics(model=yale_model)"
   ]
  },
  {
   "cell_type": "code",
   "execution_count": null,
   "metadata": {
    "collapsed": false,
    "scrolled": true
   },
   "outputs": [],
   "source": [
    "cab_nokn_igh_accuracy = accuracy(cab_nokn_igh_lkhd)\n",
    "yale_accuracy = accuracy(yale_lkhd)"
   ]
  },
  {
   "cell_type": "code",
   "execution_count": null,
   "metadata": {
    "collapsed": false
   },
   "outputs": [],
   "source": [
    "np.mean(cab_nokn_igh_accuracy)"
   ]
  },
  {
   "cell_type": "code",
   "execution_count": null,
   "metadata": {
    "collapsed": false
   },
   "outputs": [],
   "source": [
    "np.mean(accuracy_yale)"
   ]
  },
  {
   "cell_type": "markdown",
   "metadata": {},
   "source": [
    "# Germline test (cross-validation)"
   ]
  },
  {
   "cell_type": "code",
   "execution_count": null,
   "metadata": {
    "collapsed": true
   },
   "outputs": [],
   "source": []
  }
 ],
 "metadata": {
  "kernelspec": {
   "display_name": "Python 2",
   "language": "python",
   "name": "python2"
  },
  "language_info": {
   "codemirror_mode": {
    "name": "ipython",
    "version": 2
   },
   "file_extension": ".py",
   "mimetype": "text/x-python",
   "name": "python",
   "nbconvert_exporter": "python",
   "pygments_lexer": "ipython2",
   "version": "2.7.12"
  }
 },
 "nbformat": 4,
 "nbformat_minor": 0
}
