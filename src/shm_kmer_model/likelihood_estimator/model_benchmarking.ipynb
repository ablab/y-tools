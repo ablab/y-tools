{
 "cells": [
  {
   "cell_type": "markdown",
   "metadata": {},
   "source": [
    "# Tree direction test"
   ]
  },
  {
   "cell_type": "code",
   "execution_count": 1,
   "metadata": {
    "collapsed": true
   },
   "outputs": [],
   "source": [
    "import pandas as pd\n",
    "import numpy as np"
   ]
  },
  {
   "cell_type": "code",
   "execution_count": 2,
   "metadata": {
    "collapsed": true
   },
   "outputs": [],
   "source": [
    "import shm_kmer_model.shm_kmer_model as shm_kmer_model"
   ]
  },
  {
   "cell_type": "code",
   "execution_count": 3,
   "metadata": {
    "collapsed": true
   },
   "outputs": [],
   "source": [
    "yale_model = shm_kmer_model.YaleSHM_Model()"
   ]
  },
  {
   "cell_type": "code",
   "execution_count": 4,
   "metadata": {
    "collapsed": false
   },
   "outputs": [
    {
     "name": "stdout",
     "output_type": "stream",
     "text": [
      "NoKNeighbours: IGH\n"
     ]
    },
    {
     "name": "stderr",
     "output_type": "stream",
     "text": [
      "/Users/andrewbzikadze/anaconda/envs/python2.7/lib/python2.7/site-packages/numpy/core/_methods.py:59: RuntimeWarning: Mean of empty slice.\n",
      "  warnings.warn(\"Mean of empty slice.\", RuntimeWarning)\n"
     ]
    },
    {
     "name": "stdout",
     "output_type": "stream",
     "text": [
      "Trivial: IGH\n"
     ]
    }
   ],
   "source": [
    "from sample_reader.sample_reader import SampleReader\n",
    "samples_fv = SampleReader().read('AbVitro/flu_time_course/FV/', ['25'])\n",
    "samples_gmc = SampleReader().read('AbVitro/flu_time_course/GMC/', ['8'])\n",
    "samples_ido = SampleReader().read('AbVitro/flu_time_course/IDO/')\n",
    "samples_age = SampleReader().read('age/')\n",
    "samples_paired = SampleReader().read('AbVitro/paired/')\n",
    "from shm_kmer_model_estimator.shm_kmer_model_estimator import ShmKmerModelEstimator\n",
    "estimator = ShmKmerModelEstimator()\n",
    "est_model = estimator.estimate_models_of_one_type((samples_age,\n",
    "                                                   samples_ido,\n",
    "                                                   samples_fv,\n",
    "                                                   samples_gmc,\n",
    "                                                   samples_paired\n",
    "                                                  ),\n",
    "                                                  chains=['IGH'])"
   ]
  },
  {
   "cell_type": "code",
   "execution_count": 5,
   "metadata": {
    "collapsed": false
   },
   "outputs": [],
   "source": [
    "import tree_test_utilities.tree_test_utilities as tree_test_utilities"
   ]
  },
  {
   "cell_type": "code",
   "execution_count": 6,
   "metadata": {
    "collapsed": false
   },
   "outputs": [],
   "source": [
    "tester = tree_test_utilities.TreeTester()"
   ]
  },
  {
   "cell_type": "code",
   "execution_count": 7,
   "metadata": {
    "collapsed": false
   },
   "outputs": [
    {
     "data": {
      "text/plain": [
       "0.40579710144927539"
      ]
     },
     "execution_count": 7,
     "metadata": {},
     "output_type": "execute_result"
    }
   ],
   "source": [
    "result = tester.get_consistency_statistics(yale_model, mismatch_strategy='Trivial',\n",
    "    tree_path='tree_test_utilities/raji_compressed/clonal_trees/clonal_tree_2-0_Vsize_1431_Esize_1341.tree')\n",
    "np.mean(result)"
   ]
  },
  {
   "cell_type": "code",
   "execution_count": 8,
   "metadata": {
    "collapsed": false
   },
   "outputs": [
    {
     "data": {
      "text/plain": [
       "0.13043478260869565"
      ]
     },
     "execution_count": 8,
     "metadata": {},
     "output_type": "execute_result"
    }
   ],
   "source": [
    "result = tester.get_consistency_statistics(est_model['NoKNeighbours']['IGH'], mismatch_strategy='Trivial',\n",
    "    tree_path='tree_test_utilities/raji_compressed/clonal_trees/clonal_tree_2-0_Vsize_1431_Esize_1341.tree')\n",
    "np.mean(result)"
   ]
  },
  {
   "cell_type": "code",
   "execution_count": 9,
   "metadata": {
    "collapsed": false
   },
   "outputs": [
    {
     "data": {
      "text/plain": [
       "0.5"
      ]
     },
     "execution_count": 9,
     "metadata": {},
     "output_type": "execute_result"
    }
   ],
   "source": [
    "result = tester.get_consistency_statistics(yale_model, mismatch_strategy='Trivial',\n",
    "    tree_path='tree_test_utilities/clonal_tree_2-0_Vsize_559_Esize_544.tree')\n",
    "np.mean(result)"
   ]
  },
  {
   "cell_type": "code",
   "execution_count": 10,
   "metadata": {
    "collapsed": false
   },
   "outputs": [
    {
     "data": {
      "text/plain": [
       "0.069767441860465115"
      ]
     },
     "execution_count": 10,
     "metadata": {},
     "output_type": "execute_result"
    }
   ],
   "source": [
    "result = tester.get_consistency_statistics(est_model['NoKNeighbours']['IGH'], mismatch_strategy='NoKNeighbours',\n",
    "    tree_path='tree_test_utilities/clonal_tree_2-0_Vsize_559_Esize_544.tree')\n",
    "np.mean(result)"
   ]
  },
  {
   "cell_type": "code",
   "execution_count": null,
   "metadata": {
    "collapsed": true
   },
   "outputs": [],
   "source": []
  }
 ],
 "metadata": {
  "kernelspec": {
   "display_name": "Python 2",
   "language": "python",
   "name": "python2"
  },
  "language_info": {
   "codemirror_mode": {
    "name": "ipython",
    "version": 2
   },
   "file_extension": ".py",
   "mimetype": "text/x-python",
   "name": "python",
   "nbconvert_exporter": "python",
   "pygments_lexer": "ipython2",
   "version": "2.7.11"
  }
 },
 "nbformat": 4,
 "nbformat_minor": 0
}
