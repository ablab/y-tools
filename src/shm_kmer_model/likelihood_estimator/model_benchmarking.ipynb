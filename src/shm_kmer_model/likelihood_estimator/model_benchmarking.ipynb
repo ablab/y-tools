{
 "cells": [
  {
   "cell_type": "markdown",
   "metadata": {},
   "source": [
    "# Tree direction test"
   ]
  },
  {
   "cell_type": "code",
   "execution_count": 41,
   "metadata": {
    "collapsed": true
   },
   "outputs": [],
   "source": [
    "import pandas as pd\n",
    "import numpy as np"
   ]
  },
  {
   "cell_type": "code",
   "execution_count": 11,
   "metadata": {
    "collapsed": false
   },
   "outputs": [
    {
     "name": "stdout",
     "output_type": "stream",
     "text": [
      "Populating the interactive namespace from numpy and matplotlib\n"
     ]
    }
   ],
   "source": [
    "import seaborn as sns\n",
    "%pylab inline"
   ]
  },
  {
   "cell_type": "code",
   "execution_count": 42,
   "metadata": {
    "collapsed": true
   },
   "outputs": [],
   "source": [
    "import tree_test_utilities.flu_trees_statistics_calculator as flu_trees_statistics_calculator\n",
    "import tree_test_utilities.tree_test_utilities as tree_test_utilities\n",
    "import likelihood_calculator.likelihood_calculator as likelihood_calculator\n",
    "import shm_kmer_model.shm_kmer_model as shm_kmer_model"
   ]
  },
  {
   "cell_type": "code",
   "execution_count": 153,
   "metadata": {
    "collapsed": false
   },
   "outputs": [],
   "source": [
    "flu_calc = flu_trees_statistics_calculator.FluTreesStatisticsCalculator()\n",
    "tester = tree_test_utilities.TreeTester(minimal_size_filtered_tree=15)"
   ]
  },
  {
   "cell_type": "code",
   "execution_count": 154,
   "metadata": {
    "collapsed": false
   },
   "outputs": [],
   "source": [
    "mutability_results   = flu_calc.get_flu_likelihood_statistics(tester, model_mode=shm_kmer_model.ModelMode.Mutation)\n",
    "substitution_results = flu_calc.get_flu_likelihood_statistics(tester, model_mode=shm_kmer_model.ModelMode.Substitution)\n",
    "mut_subst_results    = flu_calc.get_flu_likelihood_statistics(tester, model_mode=shm_kmer_model.ModelMode.Both)"
   ]
  },
  {
   "cell_type": "code",
   "execution_count": 155,
   "metadata": {
    "collapsed": false,
    "scrolled": true
   },
   "outputs": [
    {
     "name": "stdout",
     "output_type": "stream",
     "text": [
      "(-5.02709596677701, -5.133498545651392)\n",
      "(-1.49574763978407, -1.2707916154029102)\n",
      "(-6.52284360656108, -6.404290161054302)\n"
     ]
    }
   ],
   "source": [
    "print(mutability_results['Yale']['NoKNeighbours'][30][0])\n",
    "print(substitution_results['Yale']['NoKNeighbours'][30][0])\n",
    "print(mut_subst_results['Yale']['NoKNeighbours'][30][0])"
   ]
  },
  {
   "cell_type": "code",
   "execution_count": 201,
   "metadata": {
    "collapsed": false
   },
   "outputs": [],
   "source": [
    "accuracy    = np.vectorize(lambda x: x[0] < x[1])\n",
    "logloss     = np.vectorize(lambda x: x[0] - np.log(np.exp(x[0]) + np.exp(x[1])))\n",
    "reliability = np.vectorize(lambda x: np.exp(x[0] - x[1]))\n",
    "\n",
    "def apply_statistic_to_dataset(dataset, statistic, aggregate):\n",
    "    results = []\n",
    "    for tree in dataset:\n",
    "        if len(tree):\n",
    "            results.append(aggregate(statistic(tree)))\n",
    "    return np.array(results)\n",
    "\n",
    "def draw_classification_stats_distplot(x1, x2, bins=10):\n",
    "    draw_distplot = (lambda x: sns.distplot(x[~np.isnan(x)], bins=bins, rug=True, kde=True))\n",
    "    draw_distplot(x1)\n",
    "    draw_distplot(x2)"
   ]
  },
  {
   "cell_type": "code",
   "execution_count": 202,
   "metadata": {
    "collapsed": false
   },
   "outputs": [
    {
     "data": {
      "image/png": "[encoded data removed]",
      "text/plain": [
       "<matplotlib.figure.Figure at 0x11798fb10>"
      ]
     },
     "metadata": {},
     "output_type": "display_data"
    }
   ],
   "source": [
    "accuracy_yale = apply_statistic_to_dataset(mut_subst_results['Yale']['Trivial'], accuracy, np.mean)\n",
    "accuracy_cab  = apply_statistic_to_dataset(mut_subst_results['CAB_NoKNeighbours']['Trivial'], accuracy, np.mean)\n",
    "draw_classification_stats_distplot(accuracy_yale, accuracy_cab)"
   ]
  },
  {
   "cell_type": "code",
   "execution_count": 158,
   "metadata": {
    "collapsed": false
   },
   "outputs": [
    {
     "data": {
      "text/plain": [
       "MannwhitneyuResult(statistic=787.0, pvalue=0.040943059618458622)"
      ]
     },
     "execution_count": 158,
     "metadata": {},
     "output_type": "execute_result"
    }
   ],
   "source": [
    "import scipy as sp\n",
    "sp.stats.mannwhitneyu(accuracy_yale, accuracy_cab, use_continuity=True)"
   ]
  },
  {
   "cell_type": "code",
   "execution_count": 159,
   "metadata": {
    "collapsed": false
   },
   "outputs": [
    {
     "name": "stdout",
     "output_type": "stream",
     "text": [
      "(0.38461538461538464, 0.27777777777777779)\n",
      "(0.40091384252653522, 0.32470252664578819)\n"
     ]
    }
   ],
   "source": [
    "print(np.median(accuracy_yale), np.median(accuracy_cab))\n",
    "print(np.mean(accuracy_yale), np.mean(accuracy_cab))"
   ]
  },
  {
   "cell_type": "code",
   "execution_count": 160,
   "metadata": {
    "collapsed": false,
    "scrolled": true
   },
   "outputs": [
    {
     "data": {
      "text/plain": [
       "0.2899746192893401"
      ]
     },
     "execution_count": 160,
     "metadata": {},
     "output_type": "execute_result"
    }
   ],
   "source": [
    "x = apply_statistic_to_dataset(mut_subst_results['CAB_NoKNeighbours']['Trivial'], accuracy, lambda x: x)\n",
    "np.mean(np.concatenate(x))"
   ]
  },
  {
   "cell_type": "code",
   "execution_count": 161,
   "metadata": {
    "collapsed": false
   },
   "outputs": [
    {
     "data": {
      "text/plain": [
       "0.4016497461928934"
      ]
     },
     "execution_count": 161,
     "metadata": {},
     "output_type": "execute_result"
    }
   ],
   "source": [
    "x = apply_statistic_to_dataset(mut_subst_results['Yale']['Trivial'], accuracy, lambda x: x)\n",
    "np.mean(np.concatenate(x))"
   ]
  },
  {
   "cell_type": "code",
   "execution_count": 212,
   "metadata": {
    "collapsed": false,
    "scrolled": true
   },
   "outputs": [
    {
     "name": "stdout",
     "output_type": "stream",
     "text": [
      "-1201.13918617\n",
      "-931.115785915\n"
     ]
    },
    {
     "data": {
      "image/png": "[encoded data removed]",
      "text/plain": [
       "<matplotlib.figure.Figure at 0x116897dd0>"
      ]
     },
     "metadata": {},
     "output_type": "display_data"
    }
   ],
   "source": [
    "logloss_yale = apply_statistic_to_dataset(mut_subst_results['Yale']['Trivial'], logloss, np.sum)\n",
    "logloss_cab  = apply_statistic_to_dataset(mut_subst_results['CAB_NoKNeighbours']['Trivial'], logloss, np.nansum)\n",
    "draw_classification_stats_distplot(logloss_yale, logloss_cab)\n",
    "print(np.sum(logloss_yale))\n",
    "print(np.sum(logloss_cab))"
   ]
  },
  {
   "cell_type": "code",
   "execution_count": 213,
   "metadata": {
    "collapsed": false,
    "scrolled": true
   },
   "outputs": [
    {
     "data": {
      "text/plain": [
       "MannwhitneyuResult(statistic=498.0, pvalue=0.18055292895708219)"
      ]
     },
     "execution_count": 213,
     "metadata": {},
     "output_type": "execute_result"
    }
   ],
   "source": [
    "sp.stats.mannwhitneyu(logloss_yale, logloss_cab, use_continuity=True)"
   ]
  },
  {
   "cell_type": "code",
   "execution_count": 214,
   "metadata": {
    "collapsed": false,
    "scrolled": true
   },
   "outputs": [
    {
     "data": {
      "image/png": "[encoded data removed]",
      "text/plain": [
       "<matplotlib.figure.Figure at 0x1175f0cd0>"
      ]
     },
     "metadata": {},
     "output_type": "display_data"
    }
   ],
   "source": [
    "reliability_yale = apply_statistic_to_dataset(mut_subst_results['Yale']['Trivial'], reliability, np.median)\n",
    "reliability_cab  = apply_statistic_to_dataset(mut_subst_results['CAB_NoKNeighbours']['Trivial'], reliability, np.nanmedian)\n",
    "reliability_yale\n",
    "draw_classification_stats_distplot(reliability_yale, reliability_cab)"
   ]
  },
  {
   "cell_type": "code",
   "execution_count": 215,
   "metadata": {
    "collapsed": false
   },
   "outputs": [
    {
     "data": {
      "text/plain": [
       "MannwhitneyuResult(statistic=689.0, pvalue=0.37045025756825478)"
      ]
     },
     "execution_count": 215,
     "metadata": {},
     "output_type": "execute_result"
    }
   ],
   "source": [
    "sp.stats.mannwhitneyu(reliability_yale, reliability_cab, use_continuity=True)"
   ]
  },
  {
   "cell_type": "code",
   "execution_count": 210,
   "metadata": {
    "collapsed": false
   },
   "outputs": [
    {
     "data": {
      "text/plain": [
       "1.4504645824287379"
      ]
     },
     "execution_count": 210,
     "metadata": {},
     "output_type": "execute_result"
    }
   ],
   "source": [
    "np.median(reliability_yale)"
   ]
  },
  {
   "cell_type": "code",
   "execution_count": 211,
   "metadata": {
    "collapsed": false,
    "scrolled": true
   },
   "outputs": [
    {
     "data": {
      "text/plain": [
       "1.2527441537103976"
      ]
     },
     "execution_count": 211,
     "metadata": {},
     "output_type": "execute_result"
    }
   ],
   "source": [
    "np.median(reliability_cab)"
   ]
  },
  {
   "cell_type": "code",
   "execution_count": null,
   "metadata": {
    "collapsed": true
   },
   "outputs": [],
   "source": []
  },
  {
   "cell_type": "markdown",
   "metadata": {},
   "source": [
    "## ROC"
   ]
  },
  {
   "cell_type": "code",
   "execution_count": 75,
   "metadata": {
    "collapsed": true
   },
   "outputs": [],
   "source": [
    "from sklearn.metrics import roc_curve, auc"
   ]
  },
  {
   "cell_type": "code",
   "execution_count": 80,
   "metadata": {
    "collapsed": false
   },
   "outputs": [
    {
     "data": {
      "text/plain": [
       "array([(-6.52284360656108, -6.404290161054302),\n",
       "       (-2.484074267477377, -2.261477588148975),\n",
       "       (-4.628397292918708, -2.433345431188785), ...,\n",
       "       (-2.248557434189702, -2.465226015084215),\n",
       "       (-6.552054773125556, -4.861758996657733),\n",
       "       (-5.848086687274996, -4.86372110176286)], \n",
       "      dtype=[('f0', '<f8'), ('f1', '<f8')])"
      ]
     },
     "execution_count": 80,
     "metadata": {},
     "output_type": "execute_result"
    }
   ],
   "source": [
    "np.concatenate(mut_subst_results['Yale']['Trivial'])"
   ]
  },
  {
   "cell_type": "code",
   "execution_count": 112,
   "metadata": {
    "collapsed": false
   },
   "outputs": [],
   "source": [
    "def plot_roc(predicted_proba):\n",
    "    predicted_proba = np.copy(predicted_proba)\n",
    "    predicted_proba = np.concatenate(predicted_proba)\n",
    "    logloss = np.vectorize(lambda x: x[0] - np.log(np.exp(x[0]) + np.exp(x[1])))\n",
    "\n",
    "    predicted_proba = logloss(predicted_proba)\n",
    "    predicted_proba = np.exp(predicted_proba)\n",
    "    \n",
    "    print(np.mean(predicted_proba))\n",
    "    answers = np.zeros(len(predicted_proba))\n",
    "    answers[0:(len(predicted_proba) / 2)] = 1\n",
    "    fpr, tpr, thresholds = roc_curve(answers, predicted_proba)\n",
    "    roc_auc = auc(fpr, tpr)\n",
    "    plt.plot(fpr, tpr, lw=1, label='ROC (area = %0.2f)' % (roc_auc))"
   ]
  },
  {
   "cell_type": "code",
   "execution_count": 113,
   "metadata": {
    "collapsed": false
   },
   "outputs": [
    {
     "name": "stdout",
     "output_type": "stream",
     "text": [
      "nan\n"
     ]
    },
    {
     "data": {
      "image/png": "[encoded data removed]",
      "text/plain": [
       "<matplotlib.figure.Figure at 0x116f1d3d0>"
      ]
     },
     "metadata": {},
     "output_type": "display_data"
    }
   ],
   "source": [
    "plot_roc(mut_subst_results['CAB_NoKNeighbours']['Trivial'])"
   ]
  },
  {
   "cell_type": "code",
   "execution_count": null,
   "metadata": {
    "collapsed": true
   },
   "outputs": [],
   "source": []
  }
 ],
 "metadata": {
  "kernelspec": {
   "display_name": "Python 2",
   "language": "python",
   "name": "python2"
  },
  "language_info": {
   "codemirror_mode": {
    "name": "ipython",
    "version": 2
   },
   "file_extension": ".py",
   "mimetype": "text/x-python",
   "name": "python",
   "nbconvert_exporter": "python",
   "pygments_lexer": "ipython2",
   "version": "2.7.11"
  }
 },
 "nbformat": 4,
 "nbformat_minor": 0
}
